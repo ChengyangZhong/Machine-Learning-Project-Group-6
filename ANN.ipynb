{
 "cells": [
  {
   "cell_type": "code",
   "execution_count": 1,
   "metadata": {},
   "outputs": [
    {
     "name": "stderr",
     "output_type": "stream",
     "text": [
      "d:\\Anaconda\\envs\\mle_tf\\lib\\site-packages\\tensorflow\\python\\framework\\dtypes.py:516: FutureWarning: Passing (type, 1) or '1type' as a synonym of type is deprecated; in a future version of numpy, it will be understood as (type, (1,)) / '(1,)type'.\n",
      "  _np_qint8 = np.dtype([(\"qint8\", np.int8, 1)])\n",
      "d:\\Anaconda\\envs\\mle_tf\\lib\\site-packages\\tensorflow\\python\\framework\\dtypes.py:517: FutureWarning: Passing (type, 1) or '1type' as a synonym of type is deprecated; in a future version of numpy, it will be understood as (type, (1,)) / '(1,)type'.\n",
      "  _np_quint8 = np.dtype([(\"quint8\", np.uint8, 1)])\n",
      "d:\\Anaconda\\envs\\mle_tf\\lib\\site-packages\\tensorflow\\python\\framework\\dtypes.py:518: FutureWarning: Passing (type, 1) or '1type' as a synonym of type is deprecated; in a future version of numpy, it will be understood as (type, (1,)) / '(1,)type'.\n",
      "  _np_qint16 = np.dtype([(\"qint16\", np.int16, 1)])\n",
      "d:\\Anaconda\\envs\\mle_tf\\lib\\site-packages\\tensorflow\\python\\framework\\dtypes.py:519: FutureWarning: Passing (type, 1) or '1type' as a synonym of type is deprecated; in a future version of numpy, it will be understood as (type, (1,)) / '(1,)type'.\n",
      "  _np_quint16 = np.dtype([(\"quint16\", np.uint16, 1)])\n",
      "d:\\Anaconda\\envs\\mle_tf\\lib\\site-packages\\tensorflow\\python\\framework\\dtypes.py:520: FutureWarning: Passing (type, 1) or '1type' as a synonym of type is deprecated; in a future version of numpy, it will be understood as (type, (1,)) / '(1,)type'.\n",
      "  _np_qint32 = np.dtype([(\"qint32\", np.int32, 1)])\n",
      "d:\\Anaconda\\envs\\mle_tf\\lib\\site-packages\\tensorflow\\python\\framework\\dtypes.py:525: FutureWarning: Passing (type, 1) or '1type' as a synonym of type is deprecated; in a future version of numpy, it will be understood as (type, (1,)) / '(1,)type'.\n",
      "  np_resource = np.dtype([(\"resource\", np.ubyte, 1)])\n",
      "d:\\Anaconda\\envs\\mle_tf\\lib\\site-packages\\tensorboard\\compat\\tensorflow_stub\\dtypes.py:541: FutureWarning: Passing (type, 1) or '1type' as a synonym of type is deprecated; in a future version of numpy, it will be understood as (type, (1,)) / '(1,)type'.\n",
      "  _np_qint8 = np.dtype([(\"qint8\", np.int8, 1)])\n",
      "d:\\Anaconda\\envs\\mle_tf\\lib\\site-packages\\tensorboard\\compat\\tensorflow_stub\\dtypes.py:542: FutureWarning: Passing (type, 1) or '1type' as a synonym of type is deprecated; in a future version of numpy, it will be understood as (type, (1,)) / '(1,)type'.\n",
      "  _np_quint8 = np.dtype([(\"quint8\", np.uint8, 1)])\n",
      "d:\\Anaconda\\envs\\mle_tf\\lib\\site-packages\\tensorboard\\compat\\tensorflow_stub\\dtypes.py:543: FutureWarning: Passing (type, 1) or '1type' as a synonym of type is deprecated; in a future version of numpy, it will be understood as (type, (1,)) / '(1,)type'.\n",
      "  _np_qint16 = np.dtype([(\"qint16\", np.int16, 1)])\n",
      "d:\\Anaconda\\envs\\mle_tf\\lib\\site-packages\\tensorboard\\compat\\tensorflow_stub\\dtypes.py:544: FutureWarning: Passing (type, 1) or '1type' as a synonym of type is deprecated; in a future version of numpy, it will be understood as (type, (1,)) / '(1,)type'.\n",
      "  _np_quint16 = np.dtype([(\"quint16\", np.uint16, 1)])\n",
      "d:\\Anaconda\\envs\\mle_tf\\lib\\site-packages\\tensorboard\\compat\\tensorflow_stub\\dtypes.py:545: FutureWarning: Passing (type, 1) or '1type' as a synonym of type is deprecated; in a future version of numpy, it will be understood as (type, (1,)) / '(1,)type'.\n",
      "  _np_qint32 = np.dtype([(\"qint32\", np.int32, 1)])\n",
      "d:\\Anaconda\\envs\\mle_tf\\lib\\site-packages\\tensorboard\\compat\\tensorflow_stub\\dtypes.py:550: FutureWarning: Passing (type, 1) or '1type' as a synonym of type is deprecated; in a future version of numpy, it will be understood as (type, (1,)) / '(1,)type'.\n",
      "  np_resource = np.dtype([(\"resource\", np.ubyte, 1)])\n"
     ]
    }
   ],
   "source": [
    "import pandas as pd\n",
    "import matplotlib\n",
    "from matplotlib import pyplot as plt\n",
    "import numpy as np\n",
    "import seaborn as sns\n",
    "import scipy\n",
    "import sklearn\n",
    "import tensorflow as tf\n",
    "from tensorflow import keras\n",
    "from tensorflow.keras import layers"
   ]
  },
  {
   "cell_type": "code",
   "execution_count": null,
   "metadata": {},
   "outputs": [],
   "source": [
    "# dataset_red=pd.read_csv(\"Data/红酒白酒分类+回归（都可以）/winequality-red.csv\",sep=\";\",index_col=False)\n",
    "# dataset_white=pd.read_csv(\"Data/红酒白酒分类+回归（都可以）/winequality-white.csv\",sep=\";\",index_col=False)\n",
    "dataset = pd.read_csv(\"Data/adult.data\")\n",
    "dataset.columns = ['age', 'workclass', 'fnlwgt', 'education', 'education-num', 'marital-status', 'occupation', 'relationship', 'race', 'sex', 'capital-gain', 'capital-loss', 'hours-per-week', 'native-country', 'mmpy']\n",
    "# dataset = pd.DataFrame(dataset, columns=['age', 'workclass', 'fnlwgt', 'education', 'education-num', 'marital-status', 'occupation', 'relationship', 'race', 'sex', 'capital-gain', 'capital-loss', 'hours-per-week', 'native-country'])\n",
    "dataset.head()"
   ]
  },
  {
   "cell_type": "code",
   "execution_count": null,
   "metadata": {},
   "outputs": [],
   "source": [
    "#preprocessing\n",
    "from sklearn.preprocessing import LabelEncoder\n",
    "le = LabelEncoder()\n",
    "y = le.fit_transform(dataset[\"mmpy\"])\n",
    "X = dataset.drop(\"mmpy\", axis=1)\n",
    "from sklearn.model_selection import train_test_split\n",
    "X_train, X_test, y_train, y_test = train_test_split(X, y, test_size = 0.3, random_state=3)\n",
    "pd.value_counts(y_test)"
   ]
  },
  {
   "cell_type": "code",
   "execution_count": null,
   "metadata": {},
   "outputs": [],
   "source": [
    "#normalization\n",
    "from sklearn.preprocessing import Normalizer\n",
    "norm = Normalizer()\n",
    "Xn_train = norm.fit_transform(X_train)\n",
    "Xn_test = norm.transform(X_test)\n",
    "Xn_test.shape"
   ]
  },
  {
   "cell_type": "code",
   "execution_count": null,
   "metadata": {},
   "outputs": [],
   "source": [
    "#NN model\n",
    "model = keras.models.Sequential()\n",
    "model.add(keras.layers.Dense(256, input_dim=4, activation=\"linear\"))\n",
    "model.add(keras.layers.Dense(256, activation=\"linear\"))\n",
    "model.add(keras.layers.Dense(256, activation=\"linear\"))\n",
    "model.add(keras.layers.Dense(256, activation=\"linear\"))\n",
    "model.add(keras.layers.Dense(3, activation=\"softmax\"))\n",
    "model.summary()\n",
    "model.compile(loss=\"sparse_categorical_crossentropy\", optimizer=\"adam\", metrics=[\"accuracy\"])"
   ]
  },
  {
   "cell_type": "code",
   "execution_count": null,
   "metadata": {},
   "outputs": [],
   "source": [
    "#train the model\n",
    "model.fit(np.array(Xn_train), np.array(y_train), epochs=1000, validation_data=(np.array(Xn_test), np.array(y_test)))"
   ]
  },
  {
   "cell_type": "code",
   "execution_count": null,
   "metadata": {},
   "outputs": [],
   "source": [
    "from sklearn.metrics import confusion_matrix, accuracy_score\n",
    "y_pred = model.predict_classes(Xn_test)\n",
    "print(y_pred)\n",
    "print(y_test)\n",
    "y_test = np.array(y_test)\n",
    "y_test = y_test.reshape(y_test.shape[0], 1)\n",
    "cm = confusion_matrix(y_test, y_pred)\n",
    "print(cm)\n",
    "accuracy_score(y_test, y_pred)"
   ]
  },
  {
   "cell_type": "code",
   "execution_count": null,
   "metadata": {},
   "outputs": [],
   "source": [
    "scores = model.evaluate(np.array(Xn_test), np.array(y_test), verbose=0)\n",
    "print(\"%s: %.2f%%\" % (model.metrics_names[1], scores[1]*100))"
   ]
  },
  {
   "cell_type": "code",
   "execution_count": null,
   "metadata": {},
   "outputs": [],
   "source": []
  },
  {
   "cell_type": "code",
   "execution_count": null,
   "metadata": {},
   "outputs": [],
   "source": []
  },
  {
   "cell_type": "code",
   "execution_count": null,
   "metadata": {},
   "outputs": [],
   "source": []
  },
  {
   "cell_type": "code",
   "execution_count": 26,
   "metadata": {},
   "outputs": [
    {
     "data": {
      "text/plain": [
       "white    4898\n",
       "red      1599\n",
       "Name: Label, dtype: int64"
      ]
     },
     "execution_count": 26,
     "metadata": {},
     "output_type": "execute_result"
    }
   ],
   "source": [
    "dataset_red=pd.read_csv(\"Data/红酒白酒分类+回归（都可以）/winequality-red.csv\",sep=\";\",index_col=False)\n",
    "dataset_white=pd.read_csv(\"Data/红酒白酒分类+回归（都可以）/winequality-white.csv\",sep=\";\",index_col=False)\n",
    "# dataset_red.head(n=len(dataset_red))\n",
    "red=[\"red\"]*len(dataset_red)\n",
    "dataset_red.insert(0,\"Label\",red)\n",
    "white=[\"white\"]*len(dataset_white)\n",
    "dataset_white.insert(0,\"Label\",white)\n",
    "# dataset_white = dataset_white[:1599]\n",
    "dataset=pd.concat([dataset_red,dataset_white],axis=0)\n",
    "dataset.set_index(\"Label\")\n",
    "dataset[\"Label\"].value_counts()"
   ]
  },
  {
   "cell_type": "code",
   "execution_count": 27,
   "metadata": {},
   "outputs": [
    {
     "name": "stdout",
     "output_type": "stream",
     "text": [
      "1    4898\n",
      "0    1599\n",
      "Name: Label, dtype: int64\n",
      "1    3930\n",
      "0    1267\n",
      "Name: Label, dtype: int64\n",
      "1    968\n",
      "0    332\n",
      "Name: Label, dtype: int64\n"
     ]
    }
   ],
   "source": [
    "#preprocessing\n",
    "from sklearn.preprocessing import LabelEncoder\n",
    "le = LabelEncoder()\n",
    "dataset[\"Label\"]=le.fit_transform(dataset[\"Label\"])\n",
    "y = dataset[\"Label\"]\n",
    "X = dataset.drop('Label',axis=1)\n",
    "\n",
    "#split the dataset into trainning set and testing set\n",
    "from sklearn.model_selection import train_test_split\n",
    "\n",
    "X_train,X_test,y_train,y_test=train_test_split(X,y,test_size=0.2,random_state=2)\n",
    "# dataset['Label'].value_counts(normalize=True)\n",
    "X\n",
    "print(y.value_counts())\n",
    "print(y_train.value_counts())\n",
    "print(y_test.value_counts())"
   ]
  },
  {
   "cell_type": "code",
   "execution_count": 28,
   "metadata": {},
   "outputs": [
    {
     "data": {
      "text/plain": [
       "(5197, 12)"
      ]
     },
     "execution_count": 28,
     "metadata": {},
     "output_type": "execute_result"
    }
   ],
   "source": [
    "#Normalization\n",
    "from sklearn.preprocessing import StandardScaler\n",
    "norm = StandardScaler()\n",
    "norm = norm.fit(X_train)\n",
    "Xn_train = norm.transform(X_train)\n",
    "Xn_test = norm.transform(X_test)\n",
    "Xn_train.shape"
   ]
  },
  {
   "cell_type": "code",
   "execution_count": null,
   "metadata": {},
   "outputs": [],
   "source": [
    "import numpy as np\n",
    "corrMatt = dataset.corr()\n",
    "# print(corrMatt)  相关矩阵\n",
    "\n",
    "mask = np.zeros_like(corrMatt)\n",
    "mask[np.triu_indices_from(mask)] = True\n",
    "\n",
    "fig, ax = plt.subplots(figsize=(20, 12))\n",
    "plt.title('Wine feature Correlation')\n",
    "\n",
    "cmap = sns.diverging_palette(260, 10, as_cmap=True)\n",
    "\n",
    "sns.heatmap(corrMatt, vmax=1.2, square=False, cmap=cmap, mask=mask,\n",
    "ax=ax, annot=True, fmt='.2g', linewidths=1);"
   ]
  },
  {
   "cell_type": "code",
   "execution_count": 29,
   "metadata": {},
   "outputs": [
    {
     "data": {
      "text/plain": [
       "array([[ 1.53480958, -0.36693553, -0.40019175,  0.36752272],\n",
       "       [ 1.53480958,  0.53943052,  0.87634441, -0.00462901],\n",
       "       [-0.62228741,  1.38537216,  1.86275871, -1.42234986],\n",
       "       ...,\n",
       "       [-1.23860083, -0.97117956, -0.51624049, -0.57171735],\n",
       "       [-0.23709152, -0.24608672, -0.48722831,  0.10170006],\n",
       "       [-0.46820905, -1.27330158,  0.06400321,  0.26119365]])"
      ]
     },
     "execution_count": 29,
     "metadata": {},
     "output_type": "execute_result"
    }
   ],
   "source": [
    "#Feature selection\n",
    "from sklearn.feature_selection import SelectKBest, f_classif\n",
    "selector = SelectKBest(f_classif,k=4)\n",
    "Xnf_train = selector.fit_transform(Xn_train,y_train)\n",
    "Xnf_test = selector.transform(Xn_test)\n",
    "Xnf_train"
   ]
  },
  {
   "cell_type": "code",
   "execution_count": 30,
   "metadata": {},
   "outputs": [
    {
     "name": "stdout",
     "output_type": "stream",
     "text": [
      "Model: \"sequential_4\"\n",
      "_________________________________________________________________\n",
      "Layer (type)                 Output Shape              Param #   \n",
      "=================================================================\n",
      "dense_20 (Dense)             (None, 256)               1280      \n",
      "_________________________________________________________________\n",
      "dense_21 (Dense)             (None, 256)               65792     \n",
      "_________________________________________________________________\n",
      "dense_22 (Dense)             (None, 256)               65792     \n",
      "_________________________________________________________________\n",
      "dense_23 (Dense)             (None, 256)               65792     \n",
      "_________________________________________________________________\n",
      "dense_24 (Dense)             (None, 1)                 257       \n",
      "=================================================================\n",
      "Total params: 198,913\n",
      "Trainable params: 198,913\n",
      "Non-trainable params: 0\n",
      "_________________________________________________________________\n"
     ]
    }
   ],
   "source": [
    "#defining ANN model with two hidden layers, first hidden layer has 20 neurons, the next one has 10 neurons\n",
    "model=keras.models.Sequential()\n",
    "model.add(keras.layers.Dense(256, input_dim=4,activation=\"relu\"))\n",
    "model.add(keras.layers.Dense(256, activation=\"relu\"))\n",
    "model.add(keras.layers.Dense(256, activation=\"relu\"))\n",
    "model.add(keras.layers.Dense(256, activation=\"relu\"))\n",
    "# model.add(keras.layers.Dense(512, activation=\"linear\"))\n",
    "model.add(keras.layers.Dense(1,activation='sigmoid'))\n",
    "# model.add(keras.layers.Dense(1, activation='softmax'))\n",
    "\n",
    "model.summary()"
   ]
  },
  {
   "cell_type": "code",
   "execution_count": 31,
   "metadata": {},
   "outputs": [],
   "source": [
    "model.compile(loss=\"binary_crossentropy\", optimizer=\"adam\", metrics=[\"accuracy\"])"
   ]
  },
  {
   "cell_type": "code",
   "execution_count": null,
   "metadata": {},
   "outputs": [],
   "source": [
    "clf = keras.models.Sequential()\n",
    "clf.add(keras.layers.Dense(50, input_dim=8, activation='relu'))\n",
    "clf.add(keras.layers.Dense(100, activation='relu'))\n",
    "clf.add(keras.layers.Dense(100, activation='relu'))\n",
    "clf.add(keras.layers.Dense(1, activation='sigmoid'))\n",
    "clf.summary()"
   ]
  },
  {
   "cell_type": "code",
   "execution_count": null,
   "metadata": {},
   "outputs": [],
   "source": [
    "clf.compile(loss='binary_crossentropy', optimizer='adam', metrics=['accuracy'])"
   ]
  },
  {
   "cell_type": "code",
   "execution_count": 32,
   "metadata": {},
   "outputs": [
    {
     "name": "stdout",
     "output_type": "stream",
     "text": [
      "Train on 5197 samples, validate on 1300 samples\n",
      "Epoch 1/100\n",
      "5197/5197 [==============================] - 1s 162us/sample - loss: 0.0178 - acc: 1.0000 - val_loss: 12.2614 - val_acc: 0.7446\n",
      "Epoch 2/100\n",
      "5197/5197 [==============================] - 1s 105us/sample - loss: 3.0572e-08 - acc: 1.0000 - val_loss: 12.2659 - val_acc: 0.7446\n",
      "Epoch 3/100\n",
      "5197/5197 [==============================] - 1s 100us/sample - loss: 3.0364e-08 - acc: 1.0000 - val_loss: 12.2719 - val_acc: 0.7446\n",
      "Epoch 4/100\n",
      "5197/5197 [==============================] - 0s 93us/sample - loss: 3.0119e-08 - acc: 1.0000 - val_loss: 12.2791 - val_acc: 0.7446\n",
      "Epoch 5/100\n",
      "5197/5197 [==============================] - 1s 100us/sample - loss: 2.9814e-08 - acc: 1.0000 - val_loss: 12.2870 - val_acc: 0.7446\n",
      "Epoch 6/100\n",
      "5197/5197 [==============================] - 1s 97us/sample - loss: 2.9464e-08 - acc: 1.0000 - val_loss: 12.2966 - val_acc: 0.7446\n",
      "Epoch 7/100\n",
      "5197/5197 [==============================] - 0s 96us/sample - loss: 2.9077e-08 - acc: 1.0000 - val_loss: 12.3089 - val_acc: 0.7446\n",
      "Epoch 8/100\n",
      "5197/5197 [==============================] - 0s 94us/sample - loss: 2.8636e-08 - acc: 1.0000 - val_loss: 12.3200 - val_acc: 0.7446\n",
      "Epoch 9/100\n",
      "5197/5197 [==============================] - 0s 93us/sample - loss: 2.8187e-08 - acc: 1.0000 - val_loss: 12.3344 - val_acc: 0.7446\n",
      "Epoch 10/100\n",
      "5197/5197 [==============================] - 0s 92us/sample - loss: 2.7681e-08 - acc: 1.0000 - val_loss: 12.3488 - val_acc: 0.7446\n",
      "Epoch 11/100\n",
      "5197/5197 [==============================] - 0s 89us/sample - loss: 2.7134e-08 - acc: 1.0000 - val_loss: 12.3644 - val_acc: 0.7446\n",
      "Epoch 12/100\n",
      "5197/5197 [==============================] - 0s 91us/sample - loss: 2.6566e-08 - acc: 1.0000 - val_loss: 12.3819 - val_acc: 0.7446\n",
      "Epoch 13/100\n",
      "5197/5197 [==============================] - 0s 88us/sample - loss: 2.5966e-08 - acc: 1.0000 - val_loss: 12.4005 - val_acc: 0.7446\n",
      "Epoch 14/100\n",
      "5197/5197 [==============================] - 0s 90us/sample - loss: 2.5389e-08 - acc: 1.0000 - val_loss: 12.4199 - val_acc: 0.7446\n",
      "Epoch 15/100\n",
      "5197/5197 [==============================] - 0s 90us/sample - loss: 2.4714e-08 - acc: 1.0000 - val_loss: 12.4412 - val_acc: 0.7446\n",
      "Epoch 16/100\n",
      "5197/5197 [==============================] - 0s 93us/sample - loss: 2.3995e-08 - acc: 1.0000 - val_loss: 12.4627 - val_acc: 0.7446\n",
      "Epoch 17/100\n",
      "5197/5197 [==============================] - 0s 87us/sample - loss: 2.3291e-08 - acc: 1.0000 - val_loss: 12.4869 - val_acc: 0.7446\n",
      "Epoch 18/100\n",
      "5197/5197 [==============================] - 0s 91us/sample - loss: 2.2570e-08 - acc: 1.0000 - val_loss: 12.5109 - val_acc: 0.7446\n",
      "Epoch 19/100\n",
      "5197/5197 [==============================] - 0s 91us/sample - loss: 2.1847e-08 - acc: 1.0000 - val_loss: 12.5384 - val_acc: 0.7446\n",
      "Epoch 20/100\n",
      "5197/5197 [==============================] - 0s 92us/sample - loss: 2.1075e-08 - acc: 1.0000 - val_loss: 12.5671 - val_acc: 0.7446\n",
      "Epoch 21/100\n",
      "5197/5197 [==============================] - 0s 73us/sample - loss: 2.0289e-08 - acc: 1.0000 - val_loss: 12.5903 - val_acc: 0.7446\n",
      "Epoch 22/100\n",
      "5197/5197 [==============================] - 0s 74us/sample - loss: 1.9515e-08 - acc: 1.0000 - val_loss: 12.6273 - val_acc: 0.7446\n",
      "Epoch 23/100\n",
      "5197/5197 [==============================] - 0s 72us/sample - loss: 1.8740e-08 - acc: 1.0000 - val_loss: 12.6576 - val_acc: 0.7446\n",
      "Epoch 24/100\n",
      "5197/5197 [==============================] - 0s 74us/sample - loss: 1.7936e-08 - acc: 1.0000 - val_loss: 12.6927 - val_acc: 0.7446\n",
      "Epoch 25/100\n",
      "5197/5197 [==============================] - 0s 75us/sample - loss: 1.7153e-08 - acc: 1.0000 - val_loss: 12.7273 - val_acc: 0.7446\n",
      "Epoch 26/100\n",
      "5197/5197 [==============================] - 0s 75us/sample - loss: 1.6380e-08 - acc: 1.0000 - val_loss: 12.7635 - val_acc: 0.7446\n",
      "Epoch 27/100\n",
      "5197/5197 [==============================] - 0s 73us/sample - loss: 1.5608e-08 - acc: 1.0000 - val_loss: 12.8000 - val_acc: 0.7446\n",
      "Epoch 28/100\n",
      "5197/5197 [==============================] - 0s 73us/sample - loss: 1.4861e-08 - acc: 1.0000 - val_loss: 12.8381 - val_acc: 0.7446\n",
      "Epoch 29/100\n",
      "5197/5197 [==============================] - 0s 74us/sample - loss: 1.4099e-08 - acc: 1.0000 - val_loss: 12.8771 - val_acc: 0.7446\n",
      "Epoch 30/100\n",
      "5197/5197 [==============================] - 0s 86us/sample - loss: 1.3325e-08 - acc: 1.0000 - val_loss: 12.9158 - val_acc: 0.7446\n",
      "Epoch 31/100\n",
      "5197/5197 [==============================] - 0s 74us/sample - loss: 1.2598e-08 - acc: 1.0000 - val_loss: 12.9619 - val_acc: 0.7446\n",
      "Epoch 32/100\n",
      "5197/5197 [==============================] - 0s 77us/sample - loss: 1.1898e-08 - acc: 1.0000 - val_loss: 13.0058 - val_acc: 0.7446\n",
      "Epoch 33/100\n",
      "5197/5197 [==============================] - 0s 77us/sample - loss: 1.1242e-08 - acc: 1.0000 - val_loss: 13.0497 - val_acc: 0.7446\n",
      "Epoch 34/100\n",
      "5197/5197 [==============================] - 0s 81us/sample - loss: 1.0565e-08 - acc: 1.0000 - val_loss: 13.0945 - val_acc: 0.7446\n",
      "Epoch 35/100\n",
      "5197/5197 [==============================] - 0s 87us/sample - loss: 9.9496e-09 - acc: 1.0000 - val_loss: 13.1414 - val_acc: 0.7446\n",
      "Epoch 36/100\n",
      "5197/5197 [==============================] - 0s 67us/sample - loss: 9.3159e-09 - acc: 1.0000 - val_loss: 13.1884 - val_acc: 0.7446\n",
      "Epoch 37/100\n",
      "5197/5197 [==============================] - 0s 72us/sample - loss: 8.7364e-09 - acc: 1.0000 - val_loss: 13.2338 - val_acc: 0.7446\n",
      "Epoch 38/100\n",
      "5197/5197 [==============================] - 0s 74us/sample - loss: 8.1757e-09 - acc: 1.0000 - val_loss: 13.2834 - val_acc: 0.7446\n",
      "Epoch 39/100\n",
      "5197/5197 [==============================] - 0s 72us/sample - loss: 7.6400e-09 - acc: 1.0000 - val_loss: 13.3333 - val_acc: 0.7446\n",
      "Epoch 40/100\n",
      "5197/5197 [==============================] - 0s 70us/sample - loss: 7.1371e-09 - acc: 1.0000 - val_loss: 13.3837 - val_acc: 0.7446\n",
      "Epoch 41/100\n",
      "5197/5197 [==============================] - 0s 71us/sample - loss: 6.6535e-09 - acc: 1.0000 - val_loss: 13.4335 - val_acc: 0.7446\n",
      "Epoch 42/100\n",
      "5197/5197 [==============================] - 0s 72us/sample - loss: 6.2050e-09 - acc: 1.0000 - val_loss: 13.4818 - val_acc: 0.7446\n",
      "Epoch 43/100\n",
      "5197/5197 [==============================] - 0s 74us/sample - loss: 5.7810e-09 - acc: 1.0000 - val_loss: 13.5323 - val_acc: 0.7446\n",
      "Epoch 44/100\n",
      "5197/5197 [==============================] - 0s 73us/sample - loss: 5.3863e-09 - acc: 1.0000 - val_loss: 13.5766 - val_acc: 0.7446\n",
      "Epoch 45/100\n",
      "5197/5197 [==============================] - 0s 75us/sample - loss: 5.0040e-09 - acc: 1.0000 - val_loss: 13.6326 - val_acc: 0.7446\n",
      "Epoch 46/100\n",
      "5197/5197 [==============================] - 0s 75us/sample - loss: 4.6611e-09 - acc: 1.0000 - val_loss: 13.6824 - val_acc: 0.7446\n",
      "Epoch 47/100\n",
      "5197/5197 [==============================] - 0s 72us/sample - loss: 4.3198e-09 - acc: 1.0000 - val_loss: 13.7316 - val_acc: 0.7446\n",
      "Epoch 48/100\n",
      "5197/5197 [==============================] - 0s 73us/sample - loss: 4.0398e-09 - acc: 1.0000 - val_loss: 13.7797 - val_acc: 0.7446\n",
      "Epoch 49/100\n",
      "5197/5197 [==============================] - 0s 75us/sample - loss: 3.7242e-09 - acc: 1.0000 - val_loss: 13.8245 - val_acc: 0.7446\n",
      "Epoch 50/100\n",
      "5197/5197 [==============================] - 0s 73us/sample - loss: 3.4756e-09 - acc: 1.0000 - val_loss: 13.8858 - val_acc: 0.7446\n",
      "Epoch 51/100\n",
      "5197/5197 [==============================] - 0s 77us/sample - loss: 3.2165e-09 - acc: 1.0000 - val_loss: 13.9346 - val_acc: 0.7446\n",
      "Epoch 52/100\n",
      "5197/5197 [==============================] - 0s 75us/sample - loss: 2.9887e-09 - acc: 1.0000 - val_loss: 13.9804 - val_acc: 0.7446\n",
      "Epoch 53/100\n",
      "5197/5197 [==============================] - 0s 95us/sample - loss: 2.7672e-09 - acc: 1.0000 - val_loss: 14.0340 - val_acc: 0.7446\n",
      "Epoch 54/100\n",
      "5197/5197 [==============================] - 0s 75us/sample - loss: 2.5684e-09 - acc: 1.0000 - val_loss: 14.0819 - val_acc: 0.7446\n",
      "Epoch 55/100\n",
      "5197/5197 [==============================] - 0s 73us/sample - loss: 2.3808e-09 - acc: 1.0000 - val_loss: 14.1305 - val_acc: 0.7446\n",
      "Epoch 56/100\n",
      "5197/5197 [==============================] - 0s 86us/sample - loss: 2.2098e-09 - acc: 1.0000 - val_loss: 14.1783 - val_acc: 0.7446\n",
      "Epoch 57/100\n",
      "5197/5197 [==============================] - 0s 93us/sample - loss: 2.0463e-09 - acc: 1.0000 - val_loss: 14.2262 - val_acc: 0.7446\n",
      "Epoch 58/100\n",
      "5197/5197 [==============================] - 0s 95us/sample - loss: 1.8978e-09 - acc: 1.0000 - val_loss: 14.2642 - val_acc: 0.7446\n",
      "Epoch 59/100\n",
      "5197/5197 [==============================] - 0s 94us/sample - loss: 1.7632e-09 - acc: 1.0000 - val_loss: 14.3187 - val_acc: 0.7446\n",
      "Epoch 60/100\n",
      "5197/5197 [==============================] - 1s 112us/sample - loss: 1.6353e-09 - acc: 1.0000 - val_loss: 14.3572 - val_acc: 0.7446\n",
      "Epoch 61/100\n",
      "5197/5197 [==============================] - 0s 92us/sample - loss: 1.5165e-09 - acc: 1.0000 - val_loss: 14.4013 - val_acc: 0.7446\n",
      "Epoch 62/100\n",
      "5197/5197 [==============================] - 0s 91us/sample - loss: 1.4056e-09 - acc: 1.0000 - val_loss: 14.4540 - val_acc: 0.7446\n",
      "Epoch 63/100\n",
      "5197/5197 [==============================] - 0s 90us/sample - loss: 1.3016e-09 - acc: 1.0000 - val_loss: 14.4927 - val_acc: 0.7446\n",
      "Epoch 64/100\n",
      "5197/5197 [==============================] - 0s 93us/sample - loss: 1.2066e-09 - acc: 1.0000 - val_loss: 14.5409 - val_acc: 0.7446\n",
      "Epoch 65/100\n",
      "5197/5197 [==============================] - 0s 89us/sample - loss: 1.1181e-09 - acc: 1.0000 - val_loss: 14.5863 - val_acc: 0.7446\n",
      "Epoch 66/100\n",
      "5197/5197 [==============================] - 0s 90us/sample - loss: 1.0410e-09 - acc: 1.0000 - val_loss: 14.6276 - val_acc: 0.7446\n",
      "Epoch 67/100\n",
      "5197/5197 [==============================] - 0s 96us/sample - loss: 9.6732e-10 - acc: 1.0000 - val_loss: 14.6708 - val_acc: 0.7446\n",
      "Epoch 68/100\n",
      "5197/5197 [==============================] - 1s 97us/sample - loss: 8.9952e-10 - acc: 1.0000 - val_loss: 14.7125 - val_acc: 0.7446\n",
      "Epoch 69/100\n",
      "5197/5197 [==============================] - 0s 90us/sample - loss: 8.3342e-10 - acc: 1.0000 - val_loss: 14.7544 - val_acc: 0.7446\n",
      "Epoch 70/100\n",
      "5197/5197 [==============================] - 0s 94us/sample - loss: 7.7455e-10 - acc: 1.0000 - val_loss: 14.7939 - val_acc: 0.7446\n",
      "Epoch 71/100\n",
      "5197/5197 [==============================] - 0s 95us/sample - loss: 7.2094e-10 - acc: 1.0000 - val_loss: 14.8330 - val_acc: 0.7446\n",
      "Epoch 72/100\n",
      "5197/5197 [==============================] - 0s 94us/sample - loss: 6.6894e-10 - acc: 1.0000 - val_loss: 14.8735 - val_acc: 0.7446\n",
      "Epoch 73/100\n",
      "5197/5197 [==============================] - 0s 86us/sample - loss: 6.2255e-10 - acc: 1.0000 - val_loss: 14.9110 - val_acc: 0.7446\n",
      "Epoch 74/100\n",
      "5197/5197 [==============================] - 0s 86us/sample - loss: 5.8037e-10 - acc: 1.0000 - val_loss: 14.9456 - val_acc: 0.7446\n",
      "Epoch 75/100\n",
      "5197/5197 [==============================] - 0s 91us/sample - loss: 5.3937e-10 - acc: 1.0000 - val_loss: 14.9869 - val_acc: 0.7446\n",
      "Epoch 76/100\n",
      "5197/5197 [==============================] - 0s 93us/sample - loss: 5.0479e-10 - acc: 1.0000 - val_loss: 15.0205 - val_acc: 0.7446\n",
      "Epoch 77/100\n",
      "5197/5197 [==============================] - 0s 90us/sample - loss: 4.6687e-10 - acc: 1.0000 - val_loss: 15.0601 - val_acc: 0.7446\n",
      "Epoch 78/100\n",
      "5197/5197 [==============================] - 0s 85us/sample - loss: 4.3306e-10 - acc: 1.0000 - val_loss: 15.0955 - val_acc: 0.7446\n",
      "Epoch 79/100\n",
      "5197/5197 [==============================] - 0s 87us/sample - loss: 4.0464e-10 - acc: 1.0000 - val_loss: 15.1284 - val_acc: 0.7446\n",
      "Epoch 80/100\n",
      "5197/5197 [==============================] - 0s 82us/sample - loss: 3.7700e-10 - acc: 1.0000 - val_loss: 15.1621 - val_acc: 0.7446\n",
      "Epoch 81/100\n",
      "5197/5197 [==============================] - 0s 76us/sample - loss: 3.5192e-10 - acc: 1.0000 - val_loss: 15.1937 - val_acc: 0.7446\n",
      "Epoch 82/100\n",
      "5197/5197 [==============================] - 0s 76us/sample - loss: 3.2963e-10 - acc: 1.0000 - val_loss: 15.2206 - val_acc: 0.7446\n",
      "Epoch 83/100\n",
      "5197/5197 [==============================] - 0s 75us/sample - loss: 3.0714e-10 - acc: 1.0000 - val_loss: 15.2567 - val_acc: 0.7446\n",
      "Epoch 84/100\n",
      "5197/5197 [==============================] - 0s 87us/sample - loss: 2.8663e-10 - acc: 1.0000 - val_loss: 15.2904 - val_acc: 0.7446\n",
      "Epoch 85/100\n",
      "5197/5197 [==============================] - 0s 87us/sample - loss: 2.6674e-10 - acc: 1.0000 - val_loss: 15.3229 - val_acc: 0.7446\n",
      "Epoch 86/100\n",
      "5197/5197 [==============================] - 0s 89us/sample - loss: 2.4918e-10 - acc: 1.0000 - val_loss: 15.3554 - val_acc: 0.7446\n",
      "Epoch 87/100\n",
      "5197/5197 [==============================] - 0s 83us/sample - loss: 2.3106e-10 - acc: 1.0000 - val_loss: 15.3874 - val_acc: 0.7446\n",
      "Epoch 88/100\n",
      "5197/5197 [==============================] - 0s 82us/sample - loss: 2.1587e-10 - acc: 1.0000 - val_loss: 15.4131 - val_acc: 0.7446\n",
      "Epoch 89/100\n",
      "5197/5197 [==============================] - 0s 83us/sample - loss: 2.0471e-10 - acc: 1.0000 - val_loss: 15.4397 - val_acc: 0.7446\n",
      "Epoch 90/100\n",
      "5197/5197 [==============================] - 0s 85us/sample - loss: 1.9102e-10 - acc: 1.0000 - val_loss: 15.4659 - val_acc: 0.7446\n",
      "Epoch 91/100\n",
      "5197/5197 [==============================] - 0s 84us/sample - loss: 1.7922e-10 - acc: 1.0000 - val_loss: 15.4896 - val_acc: 0.7446\n",
      "Epoch 92/100\n",
      "5197/5197 [==============================] - 0s 83us/sample - loss: 1.6891e-10 - acc: 1.0000 - val_loss: 15.5156 - val_acc: 0.7446\n",
      "Epoch 93/100\n",
      "5197/5197 [==============================] - 0s 86us/sample - loss: 1.5897e-10 - acc: 1.0000 - val_loss: 15.5398 - val_acc: 0.7446\n",
      "Epoch 94/100\n",
      "5197/5197 [==============================] - 0s 88us/sample - loss: 1.4910e-10 - acc: 1.0000 - val_loss: 15.5651 - val_acc: 0.7446\n",
      "Epoch 95/100\n",
      "5197/5197 [==============================] - 0s 88us/sample - loss: 1.3909e-10 - acc: 1.0000 - val_loss: 15.5928 - val_acc: 0.7446\n",
      "Epoch 96/100\n",
      "5197/5197 [==============================] - 0s 84us/sample - loss: 1.3115e-10 - acc: 1.0000 - val_loss: 15.6144 - val_acc: 0.7446\n",
      "Epoch 97/100\n",
      "5197/5197 [==============================] - 0s 85us/sample - loss: 1.2435e-10 - acc: 1.0000 - val_loss: 15.6368 - val_acc: 0.7446\n",
      "Epoch 98/100\n",
      "5197/5197 [==============================] - 0s 87us/sample - loss: 1.1782e-10 - acc: 1.0000 - val_loss: 15.6589 - val_acc: 0.7446\n",
      "Epoch 99/100\n",
      "5197/5197 [==============================] - 0s 87us/sample - loss: 1.1173e-10 - acc: 1.0000 - val_loss: 15.6826 - val_acc: 0.7446\n",
      "Epoch 100/100\n",
      "5197/5197 [==============================] - 0s 84us/sample - loss: 1.0516e-10 - acc: 1.0000 - val_loss: 15.7029 - val_acc: 0.7446\n"
     ]
    }
   ],
   "source": [
    "#train the model\n",
    "history = model.fit((np.array(Xnf_train), np.array(y_train)), epochs=100, validation_data=(np.array(Xnf_test), np.array(y_test)))"
   ]
  },
  {
   "cell_type": "code",
   "execution_count": 33,
   "metadata": {},
   "outputs": [
    {
     "name": "stdout",
     "output_type": "stream",
     "text": [
      "[[1]\n",
      " [1]\n",
      " [1]\n",
      " ...\n",
      " [1]\n",
      " [1]\n",
      " [1]]\n",
      "[0 0 1 ... 0 1 1]\n",
      "[[  0 332]\n",
      " [  0 968]]\n"
     ]
    },
    {
     "data": {
      "text/plain": [
       "0.7446153846153846"
      ]
     },
     "execution_count": 33,
     "metadata": {},
     "output_type": "execute_result"
    }
   ],
   "source": [
    "from sklearn.metrics import confusion_matrix, accuracy_score\n",
    "y_pred = model.predict_classes(Xnf_test)\n",
    "y_test = np.array(y_test)\n",
    "print(y_pred)\n",
    "print(y_test)\n",
    "y_test = y_test.reshape((np.array(y_test)).shape[0], 1)\n",
    "cm = confusion_matrix(np.array(y_test), y_pred)\n",
    "print(cm)\n",
    "accuracy_score(y_test, y_pred)"
   ]
  },
  {
   "cell_type": "code",
   "execution_count": null,
   "metadata": {},
   "outputs": [],
   "source": [
    "scores = model.evaluate(np.array(Xn_test), np.array(y_test), verbose=0)\n",
    "print(\"%s: %.2f%%\" % (model.metrics_names[1], scores[1]*100))"
   ]
  }
 ],
 "metadata": {
  "kernelspec": {
   "display_name": "Python 3",
   "language": "python",
   "name": "python3"
  },
  "language_info": {
   "codemirror_mode": {
    "name": "ipython",
    "version": 3
   },
   "file_extension": ".py",
   "mimetype": "text/x-python",
   "name": "python",
   "nbconvert_exporter": "python",
   "pygments_lexer": "ipython3",
   "version": "3.7.13"
  },
  "vscode": {
   "interpreter": {
    "hash": "de28e1e25f48b68b9638a29c8142fb7816a4ec90feebba1cd15c63ff7df4d74f"
   }
  }
 },
 "nbformat": 4,
 "nbformat_minor": 1
}
