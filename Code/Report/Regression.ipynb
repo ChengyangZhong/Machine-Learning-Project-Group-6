{
 "cells": [
  {
   "cell_type": "code",
   "execution_count": 1,
   "metadata": {
    "collapsed": true
   },
   "outputs": [],
   "source": [
    "# Implement dependencies\n",
    "import pandas as pd\n",
    "import numpy as np"
   ]
  },
  {
   "cell_type": "code",
   "execution_count": 2,
   "metadata": {
    "collapsed": false
   },
   "outputs": [],
   "source": [
    "# Proprocessing \n",
    "from sklearn.model_selection import cross_val_score, train_test_split\n",
    "\n",
    "dataset=pd.read_csv('airfoil_self_noise.dat',sep=\"\\t\",engine='python',\n",
    "    names=[\"Frequency\",\"Angle\",\"Chord\",\"Velocity\",\"Suction\",\"Pressure Level\"],header=None)\n",
    "\n",
    "X=dataset.drop(\"Pressure Level\",axis=1)\n",
    "y=dataset[\"Pressure Level\"]\n",
    "\n",
    "dataset.corr()\n",
    "X_train,X_test,y_train,y_test=train_test_split(X,y)"
   ]
  },
  {
   "cell_type": "code",
   "execution_count": 3,
   "metadata": {},
   "outputs": [],
   "source": [
    "# Normalization\n",
    "from sklearn.preprocessing import Normalizer\n",
    "normal=Normalizer()\n",
    "Xn_train=normal.fit_transform(X_train)\n",
    "Xn_test=normal.transform(X_test)"
   ]
  },
  {
   "cell_type": "code",
   "execution_count": 4,
   "metadata": {},
   "outputs": [],
   "source": [
    "# Feature selection, k = 3 means the number of features will decrease to 3\n",
    "from sklearn.feature_selection import SelectKBest, f_classif\n",
    "selector = SelectKBest(f_classif,k=3)  #the reason why use f_classif is that chi2 can't use float\n",
    "Xnf_train = selector.fit_transform(Xn_train, y_train)\n",
    "Xnf_test = selector.transform(Xn_test)"
   ]
  },
  {
   "cell_type": "code",
   "execution_count": 6,
   "metadata": {},
   "outputs": [
    {
     "name": "stdout",
     "output_type": "stream",
     "text": [
      "-43.06397363942442\n"
     ]
    }
   ],
   "source": [
    "# Linear Regression\n",
    "from sklearn import linear_model\n",
    "linear = linear_model.LinearRegression()\n",
    "score=cross_val_score(linear, Xnf_train, y_train, cv=10, scoring=\"neg_mean_squared_error\")\n",
    "print(score.mean())"
   ]
  },
  {
   "cell_type": "code",
   "execution_count": 9,
   "metadata": {},
   "outputs": [
    {
     "name": "stdout",
     "output_type": "stream",
     "text": [
      "-48.45753134795939\n"
     ]
    }
   ],
   "source": [
    "# SVM regression\n",
    "from sklearn.svm import SVR\n",
    "\n",
    "svr=SVR(C=1.0,kernel=\"rbf\",degree=3,gamma='auto')\n",
    "svr.fit(Xnf_train,y_train)\n",
    "score=cross_val_score(svr, Xnf_train, y_train, cv=10, scoring=\"neg_mean_squared_error\")\n",
    "print(score.mean())"
   ]
  },
  {
   "cell_type": "code",
   "execution_count": 23,
   "metadata": {
    "collapsed": false
   },
   "outputs": [
    {
     "name": "stdout",
     "output_type": "stream",
     "text": [
      "-7.929377153302267\n"
     ]
    }
   ],
   "source": [
    "# Decision Tree\n",
    "from sklearn.tree import DecisionTreeRegressor\n",
    "\n",
    "regressor=DecisionTreeRegressor(max_depth=12,max_features=5,random_state=0)\n",
    "score=cross_val_score(regressor,Xn_train,y_train,cv=10,scoring=\"neg_mean_squared_error\")\n",
    "print(score.mean())"
   ]
  },
  {
   "cell_type": "code",
   "execution_count": 24,
   "metadata": {
    "collapsed": false
   },
   "outputs": [
    {
     "name": "stdout",
     "output_type": "stream",
     "text": [
      "-40.066458574557096\n"
     ]
    }
   ],
   "source": [
    "# ANN Regression\n",
    "from sklearn.neural_network import MLPRegressor\n",
    "\n",
    "regressor=MLPRegressor(hidden_layer_sizes=(300,100,200,200),activation=\"relu\",solver=\"adam\",max_iter=400,batch_size=127)\n",
    "score = cross_val_score(regressor, X=Xnf_train, y=y_train, cv=10,scoring=\"neg_mean_squared_error\")\n",
    "\n",
    "print(score.mean())"
   ]
  }
 ],
 "metadata": {
  "kernelspec": {
   "display_name": "Python 3.7.13 ('mle_tf')",
   "language": "python",
   "name": "python3"
  },
  "language_info": {
   "codemirror_mode": {
    "name": "ipython",
    "version": 3
   },
   "file_extension": ".py",
   "mimetype": "text/x-python",
   "name": "python",
   "nbconvert_exporter": "python",
   "pygments_lexer": "ipython3",
   "version": "3.7.13"
  },
  "vscode": {
   "interpreter": {
    "hash": "de28e1e25f48b68b9638a29c8142fb7816a4ec90feebba1cd15c63ff7df4d74f"
   }
  }
 },
 "nbformat": 4,
 "nbformat_minor": 0
}
