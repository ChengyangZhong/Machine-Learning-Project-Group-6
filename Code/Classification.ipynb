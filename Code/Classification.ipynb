{
 "cells": [
  {
   "cell_type": "code",
   "execution_count": 4,
   "metadata": {},
   "outputs": [],
   "source": [
    "# Implement dependencies\n",
    "import pandas as pd\n",
    "import numpy as np"
   ]
  },
  {
   "cell_type": "code",
   "execution_count": 5,
   "metadata": {
    "collapsed": true
   },
   "outputs": [],
   "source": [
    "# Preprocessing\n",
    "from sklearn.preprocessing import LabelEncoder\n",
    "from sklearn.model_selection import train_test_split\n",
    "\n",
    "dataset_red=pd.read_csv(\"Data/winequality-red.csv\",sep=\";\",index_col=False)\n",
    "dataset_white=pd.read_csv(\"Data/winequality-white.csv\",sep=\";\",index_col=False)\n",
    "\n",
    "red=[\"red\"]*len(dataset_red)\n",
    "dataset_red.insert(0,\"Label\",red)\n",
    "white=[\"white\"]*len(dataset_white)\n",
    "dataset_white.insert(0,\"Label\",white)\n",
    "dataset=pd.concat([dataset_red,dataset_white],axis=0)\n",
    "dataset.set_index(\"Label\")\n",
    "\n",
    "le=LabelEncoder()\n",
    "dataset[\"Label\"]=le.fit_transform(dataset[\"Label\"])\n",
    "y=dataset[\"Label\"]\n",
    "X=dataset.drop(\"Label\",axis=1)\n",
    "X_train,X_test,y_train,y_test=train_test_split(X,y,test_size=0.3,random_state=1,stratify=y)"
   ]
  },
  {
   "cell_type": "code",
   "execution_count": 6,
   "metadata": {
    "collapsed": false
   },
   "outputs": [],
   "source": [
    "# Normalization\n",
    "from sklearn.preprocessing import Normalizer\n",
    "norm = Normalizer()\n",
    "Xn_train=norm.fit_transform(X_train)\n",
    "Xn_test=norm.transform(X_test)"
   ]
  },
  {
   "cell_type": "code",
   "execution_count": 7,
   "metadata": {},
   "outputs": [],
   "source": [
    "# Feature selection\n",
    "from sklearn.feature_selection import SelectKBest,f_classif\n",
    "select = SelectKBest(f_classif, k=4)\n",
    "Xnf_train=select.fit_transform(Xn_train,y_train)\n",
    "Xnf_test=select.transform(Xn_test)"
   ]
  },
  {
   "cell_type": "code",
   "execution_count": 14,
   "metadata": {},
   "outputs": [
    {
     "name": "stdout",
     "output_type": "stream",
     "text": [
      "0.8428438147470543\n"
     ]
    }
   ],
   "source": [
    "# Logistic Regression\n",
    "from sklearn.model_selection import cross_val_score\n",
    "from sklearn import linear_model\n",
    "lm = linear_model.LogisticRegression(penalty='l2', C=1.0)\n",
    "lm.fit(Xnf_train,y_train)\n",
    "score = cross_val_score(lm, Xnf_train, y_train, cv=5, scoring='f1_macro')\n",
    "print(score.mean())"
   ]
  },
  {
   "cell_type": "code",
   "execution_count": 15,
   "metadata": {},
   "outputs": [
    {
     "name": "stdout",
     "output_type": "stream",
     "text": [
      "0.8554992492336606\n"
     ]
    }
   ],
   "source": [
    "# SVM classficiation\n",
    "from sklearn.svm import SVC\n",
    "clf=SVC(C=1.0,kernel=\"rbf\",degree=3,gamma='auto',probability=True)\n",
    "clf.fit(Xnf_train,y_train)\n",
    "score = cross_val_score(clf, Xnf_train, y_train, cv=5, scoring='f1_macro')\n",
    "print(score.mean())"
   ]
  },
  {
   "cell_type": "code",
   "execution_count": 11,
   "metadata": {
    "collapsed": false
   },
   "outputs": [
    {
     "name": "stdout",
     "output_type": "stream",
     "text": [
      "0.972950833544893\n"
     ]
    }
   ],
   "source": [
    "# Decision Tree\n",
    "from sklearn.model_selection import KFold, GridSearchCV\n",
    "from sklearn.tree import DecisionTreeClassifier\n",
    "\n",
    "clf_fs_cv=DecisionTreeClassifier(criterion=\"entropy\")\n",
    "p_grid={\"splitter\":[\"best\",\"random\"],\"max_features\":[1,2,3,4],\"max_depth\":[2,3,4,5,6,7,8]}\n",
    "\n",
    "inner_cv=KFold(n_splits=3,shuffle=True)\n",
    "outer_cv=KFold(n_splits=5,shuffle=True)\n",
    "\n",
    "clf = GridSearchCV(estimator=clf_fs_cv, param_grid=p_grid, cv=inner_cv)\n",
    "nested_score = cross_val_score(clf, Xn_train, y_train, cv=outer_cv)\n",
    "\n",
    "print(nested_score.mean())"
   ]
  },
  {
   "cell_type": "code",
   "execution_count": 13,
   "metadata": {
    "collapsed": false
   },
   "outputs": [
    {
     "name": "stdout",
     "output_type": "stream",
     "text": [
      "0.9236616683005074\n"
     ]
    }
   ],
   "source": [
    "# ANN\n",
    "from sklearn.neural_network import MLPClassifier\n",
    "from sklearn.model_selection import cross_val_score\n",
    "clf = MLPClassifier(hidden_layer_sizes=(256,256,256,256), activation='relu', solver='adam', max_iter=400,   \n",
    "    batch_size=50)\n",
    "score = cross_val_score(clf, Xnf_train, y_train, cv=5, scoring='f1_macro')\n",
    "print(score.mean())"
   ]
  }
 ],
 "metadata": {
  "kernelspec": {
   "display_name": "Python 3.7.13 ('mle_tf')",
   "language": "python",
   "name": "python3"
  },
  "language_info": {
   "codemirror_mode": {
    "name": "ipython",
    "version": 3
   },
   "file_extension": ".py",
   "mimetype": "text/x-python",
   "name": "python",
   "nbconvert_exporter": "python",
   "pygments_lexer": "ipython3",
   "version": "3.7.13"
  },
  "vscode": {
   "interpreter": {
    "hash": "de28e1e25f48b68b9638a29c8142fb7816a4ec90feebba1cd15c63ff7df4d74f"
   }
  }
 },
 "nbformat": 4,
 "nbformat_minor": 0
}
