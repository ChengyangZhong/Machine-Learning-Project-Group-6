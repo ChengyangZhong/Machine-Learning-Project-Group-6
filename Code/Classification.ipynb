{
 "cells": [
  {
   "cell_type": "code",
   "execution_count": 1,
   "metadata": {
    "collapsed": true
   },
   "outputs": [],
   "source": [
    "import pandas as pd\n",
    "import numpy as np\n",
    "from matplotlib import pyplot as plt\n",
    "\n",
    "# dataset_red=pd.read_csv(\"Data/winequality-red.csv\",sep=\";\",index_col=False)\n",
    "# dataset_white=pd.read_csv(\"Data/winequality-white.csv\",sep=\";\",index_col=False)\n",
    "dataset_red=pd.read_csv(\"C:/Users/10253/Desktop/Machine-Learning-Project-Group-6/Data/winequality-red.csv\",sep=\";\",index_col=False)\n",
    "dataset_white=pd.read_csv(\"C:/Users/10253/Desktop/Machine-Learning-Project-Group-6/Data/winequality-white.csv\",sep=\";\",index_col=False)\n",
    "\n",
    "red=[\"red\"]*len(dataset_red)\n",
    "dataset_red.insert(0,\"Label\",red)\n",
    "white=[\"white\"]*len(dataset_white)\n",
    "dataset_white.insert(0,\"Label\",white)\n",
    "# dataset_white.head(n=5)\n",
    "dataset=pd.concat([dataset_red,dataset_white],axis=0)\n",
    "dataset.set_index(\"Label\")\n",
    "\n",
    "X=dataset.drop(\"Label\",axis=1)"
   ]
  },
  {
   "cell_type": "code",
   "execution_count": 9,
   "outputs": [],
   "source": [
    "from sklearn.preprocessing import StandardScaler\n",
    "scaler=StandardScaler()\n",
    "Xs=scaler.fit_transform(X)\n",
    "\n",
    "\n",
    "# from sklearn.preprocessing import LabelEncoder\n",
    "# le=LabelEncoder()\n",
    "# dataset[\"Label\"]=le.fit_transform(dataset[\"Label\"])\n",
    "y=dataset[\"Label\"]\n",
    "\n",
    "\n",
    "from sklearn.feature_selection import SelectKBest,f_classif\n",
    "Xs=SelectKBest(f_classif,k=4).fit_transform(Xs,y)\n",
    "\n",
    "\n",
    "from sklearn.model_selection import train_test_split, cross_val_score\n",
    "\n",
    "Xs_train,Xs_test,y_train,y_test=train_test_split(Xs,y,test_size=0.3,random_state=1,stratify=y)\n",
    "\n"
   ],
   "metadata": {
    "collapsed": false
   }
  },
  {
   "cell_type": "code",
   "execution_count": 13,
   "outputs": [
    {
     "name": "stdout",
     "output_type": "stream",
     "text": [
      "0.9832853395229634\n",
      "0       0\n",
      "1       0\n",
      "2       0\n",
      "3       0\n",
      "4       0\n",
      "       ..\n",
      "4893    1\n",
      "4894    1\n",
      "4895    1\n",
      "4896    1\n",
      "4897    1\n",
      "Name: Label, Length: 6497, dtype: int32\n"
     ]
    },
    {
     "data": {
      "text/plain": "array([[ 463,   14],\n       [  17, 1456]], dtype=int64)"
     },
     "execution_count": 13,
     "metadata": {},
     "output_type": "execute_result"
    }
   ],
   "source": [
    "from sklearn.metrics import confusion_matrix\n",
    "from sklearn.model_selection import KFold, GridSearchCV\n",
    "from sklearn.tree import DecisionTreeClassifier\n",
    "\n",
    "clf_fs_cv=DecisionTreeClassifier(criterion=\"entropy\")\n",
    "\n",
    "\n",
    "\n",
    "p_grid={\"splitter\":[\"best\",\"random\"],\"max_features\":[1,2,3,4],\"max_depth\":[2,3,4,5,6,7,8]}\n",
    "\n",
    "\n",
    "inner_cv=KFold(n_splits=3,shuffle=True)\n",
    "outer_cv=KFold(n_splits=5,shuffle=True)\n",
    "\n",
    "\n",
    "clf = GridSearchCV(estimator=clf_fs_cv, param_grid=p_grid, cv=inner_cv)\n",
    "nested_score = cross_val_score(clf, X=Xs, y=y, cv=outer_cv)\n",
    "\n",
    "print(nested_score.mean())\n",
    "print(y)\n",
    "\n",
    "clf_fs_cv.fit(Xs_train,y_train)\n",
    "confusion_matrix(clf_fs_cv.predict(Xs_test),y_test)"
   ],
   "metadata": {
    "collapsed": false
   }
  },
  {
   "cell_type": "code",
   "execution_count": null,
   "outputs": [],
   "source": [],
   "metadata": {
    "collapsed": false
   }
  }
 ],
 "metadata": {
  "kernelspec": {
   "display_name": "Python 3",
   "language": "python",
   "name": "python3"
  },
  "language_info": {
   "codemirror_mode": {
    "name": "ipython",
    "version": 2
   },
   "file_extension": ".py",
   "mimetype": "text/x-python",
   "name": "python",
   "nbconvert_exporter": "python",
   "pygments_lexer": "ipython2",
   "version": "2.7.6"
  }
 },
 "nbformat": 4,
 "nbformat_minor": 0
}
