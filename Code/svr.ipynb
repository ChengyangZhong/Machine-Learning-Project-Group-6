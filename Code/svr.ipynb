{
 "cells": [
  {
   "cell_type": "code",
   "execution_count": 89,
   "metadata": {
    "collapsed": true
   },
   "outputs": [],
   "source": [
    "import pandas as pd\n",
    "import matplotlib\n",
    "from matplotlib import pyplot as plt\n",
    "import numpy as np\n",
    "import seaborn as sns\n",
    "import scipy\n",
    "import sklearn"
   ]
  },
  {
   "cell_type": "code",
   "execution_count": 90,
   "outputs": [],
   "source": [
    "dataset=pd.read_csv(\"/Users/empty/PycharmProjects/Machine-Learning-Project-Group-6/Data/airfoil_self_noise.dat\",sep=\"\\t\",index_col=False,names=[\"Frequency\",\"Angle\",\"Chord\",\"Velocity\",\"Suction\",\"Pressure Level\"], header = None)\n",
    "#dataset read the csv and use ; to separate it"
   ],
   "metadata": {
    "collapsed": false
   }
  },
  {
   "cell_type": "code",
   "execution_count": 91,
   "outputs": [],
   "source": [
    "from sklearn.model_selection import train_test_split\n",
    "train, test=train_test_split(dataset,test_size=0.2,random_state=1)"
   ],
   "metadata": {
    "collapsed": false
   }
  },
  {
   "cell_type": "code",
   "execution_count": 93,
   "outputs": [],
   "source": [
    "x_train = train.drop(\"Pressure Level\", axis = 1)\n",
    "y_train = train[\"Pressure Level\"]\n",
    "x_test = test.drop(\"Pressure Level\", axis = 1)\n",
    "y_test = test[\"Pressure Level\"]\n",
    "#Pressure Level don't need to be normalized"
   ],
   "metadata": {
    "collapsed": false
   }
  },
  {
   "cell_type": "code",
   "execution_count": 94,
   "outputs": [],
   "source": [
    "from sklearn.preprocessing import Normalizer\n",
    "norm = Normalizer()\n",
    "norm.fit(x_train)\n",
    "n_x_train = norm.transform(x_train)  #normalized train dataset\n",
    "n_x_test = norm.transform(x_test) #normalized test dataset"
   ],
   "metadata": {
    "collapsed": false
   }
  },
  {
   "cell_type": "code",
   "execution_count": 111,
   "outputs": [],
   "source": [
    "from sklearn.feature_selection import SelectKBest, f_classif\n",
    "selector = SelectKBest(f_classif,k=3)  #降维成3, chi2不可以使用浮点数\n",
    "s_n_x_train = selector.fit_transform(n_x_train, y_train)\n",
    "s_n_x_test = selector.transform(n_x_test)"
   ],
   "metadata": {
    "collapsed": false
   }
  },
  {
   "cell_type": "code",
   "execution_count": 130,
   "outputs": [
    {
     "data": {
      "text/plain": "SVR()",
      "text/html": "<style>#sk-container-id-7 {color: black;background-color: white;}#sk-container-id-7 pre{padding: 0;}#sk-container-id-7 div.sk-toggleable {background-color: white;}#sk-container-id-7 label.sk-toggleable__label {cursor: pointer;display: block;width: 100%;margin-bottom: 0;padding: 0.3em;box-sizing: border-box;text-align: center;}#sk-container-id-7 label.sk-toggleable__label-arrow:before {content: \"▸\";float: left;margin-right: 0.25em;color: #696969;}#sk-container-id-7 label.sk-toggleable__label-arrow:hover:before {color: black;}#sk-container-id-7 div.sk-estimator:hover label.sk-toggleable__label-arrow:before {color: black;}#sk-container-id-7 div.sk-toggleable__content {max-height: 0;max-width: 0;overflow: hidden;text-align: left;background-color: #f0f8ff;}#sk-container-id-7 div.sk-toggleable__content pre {margin: 0.2em;color: black;border-radius: 0.25em;background-color: #f0f8ff;}#sk-container-id-7 input.sk-toggleable__control:checked~div.sk-toggleable__content {max-height: 200px;max-width: 100%;overflow: auto;}#sk-container-id-7 input.sk-toggleable__control:checked~label.sk-toggleable__label-arrow:before {content: \"▾\";}#sk-container-id-7 div.sk-estimator input.sk-toggleable__control:checked~label.sk-toggleable__label {background-color: #d4ebff;}#sk-container-id-7 div.sk-label input.sk-toggleable__control:checked~label.sk-toggleable__label {background-color: #d4ebff;}#sk-container-id-7 input.sk-hidden--visually {border: 0;clip: rect(1px 1px 1px 1px);clip: rect(1px, 1px, 1px, 1px);height: 1px;margin: -1px;overflow: hidden;padding: 0;position: absolute;width: 1px;}#sk-container-id-7 div.sk-estimator {font-family: monospace;background-color: #f0f8ff;border: 1px dotted black;border-radius: 0.25em;box-sizing: border-box;margin-bottom: 0.5em;}#sk-container-id-7 div.sk-estimator:hover {background-color: #d4ebff;}#sk-container-id-7 div.sk-parallel-item::after {content: \"\";width: 100%;border-bottom: 1px solid gray;flex-grow: 1;}#sk-container-id-7 div.sk-label:hover label.sk-toggleable__label {background-color: #d4ebff;}#sk-container-id-7 div.sk-serial::before {content: \"\";position: absolute;border-left: 1px solid gray;box-sizing: border-box;top: 0;bottom: 0;left: 50%;z-index: 0;}#sk-container-id-7 div.sk-serial {display: flex;flex-direction: column;align-items: center;background-color: white;padding-right: 0.2em;padding-left: 0.2em;position: relative;}#sk-container-id-7 div.sk-item {position: relative;z-index: 1;}#sk-container-id-7 div.sk-parallel {display: flex;align-items: stretch;justify-content: center;background-color: white;position: relative;}#sk-container-id-7 div.sk-item::before, #sk-container-id-7 div.sk-parallel-item::before {content: \"\";position: absolute;border-left: 1px solid gray;box-sizing: border-box;top: 0;bottom: 0;left: 50%;z-index: -1;}#sk-container-id-7 div.sk-parallel-item {display: flex;flex-direction: column;z-index: 1;position: relative;background-color: white;}#sk-container-id-7 div.sk-parallel-item:first-child::after {align-self: flex-end;width: 50%;}#sk-container-id-7 div.sk-parallel-item:last-child::after {align-self: flex-start;width: 50%;}#sk-container-id-7 div.sk-parallel-item:only-child::after {width: 0;}#sk-container-id-7 div.sk-dashed-wrapped {border: 1px dashed gray;margin: 0 0.4em 0.5em 0.4em;box-sizing: border-box;padding-bottom: 0.4em;background-color: white;}#sk-container-id-7 div.sk-label label {font-family: monospace;font-weight: bold;display: inline-block;line-height: 1.2em;}#sk-container-id-7 div.sk-label-container {text-align: center;}#sk-container-id-7 div.sk-container {/* jupyter's `normalize.less` sets `[hidden] { display: none; }` but bootstrap.min.css set `[hidden] { display: none !important; }` so we also need the `!important` here to be able to override the default hidden behavior on the sphinx rendered scikit-learn.org. See: https://github.com/scikit-learn/scikit-learn/issues/21755 */display: inline-block !important;position: relative;}#sk-container-id-7 div.sk-text-repr-fallback {display: none;}</style><div id=\"sk-container-id-7\" class=\"sk-top-container\"><div class=\"sk-text-repr-fallback\"><pre>SVR()</pre><b>In a Jupyter environment, please rerun this cell to show the HTML representation or trust the notebook. <br />On GitHub, the HTML representation is unable to render, please try loading this page with nbviewer.org.</b></div><div class=\"sk-container\" hidden><div class=\"sk-item\"><div class=\"sk-estimator sk-toggleable\"><input class=\"sk-toggleable__control sk-hidden--visually\" id=\"sk-estimator-id-7\" type=\"checkbox\" checked><label for=\"sk-estimator-id-7\" class=\"sk-toggleable__label sk-toggleable__label-arrow\">SVR</label><div class=\"sk-toggleable__content\"><pre>SVR()</pre></div></div></div></div></div>"
     },
     "execution_count": 130,
     "metadata": {},
     "output_type": "execute_result"
    }
   ],
   "source": [
    "from sklearn.svm import SVR\n",
    "\n",
    "# svr=SVR(C=1.0,kernel=\"poly\",degree=3,gamma='auto')\n",
    "# svr=SVR(kernel=\"poly\", degree=3, C=1, epsilon=0.1, gamma=\"auto\")\n",
    "svr = SVR()\n",
    "#kernel 核函数，多项式支持向量回归用这个\n",
    "#最高次方 2\n",
    "#惩罚因子 1.0, 宽度\n",
    "#epsilon超参数调节\n",
    "svr.fit(s_n_x_train,y_train)"
   ],
   "metadata": {
    "collapsed": false
   }
  },
  {
   "cell_type": "code",
   "execution_count": 122,
   "outputs": [
    {
     "data": {
      "text/plain": "array([[1.00631323e-02, 1.21715981e-04, 5.69445503e-02],\n       [1.05668692e-02, 1.60237898e-04, 1.12450414e-01],\n       [8.53804901e-03, 2.40962716e-04, 8.77521703e-02],\n       ...,\n       [1.50790501e-03, 4.03166180e-06, 6.28558297e-03],\n       [0.00000000e+00, 1.82821218e-04, 2.53518486e-02],\n       [5.93150903e-03, 1.58589820e-05, 4.45175362e-02]])"
     },
     "execution_count": 122,
     "metadata": {},
     "output_type": "execute_result"
    }
   ],
   "source": [
    "s_n_x_train"
   ],
   "metadata": {
    "collapsed": false
   }
  },
  {
   "cell_type": "code",
   "execution_count": 131,
   "outputs": [
    {
     "name": "stdout",
     "output_type": "stream",
     "text": [
      "The regression accuracy score is 0.16\n"
     ]
    },
    {
     "data": {
      "text/plain": "0.15748051753448666"
     },
     "execution_count": 131,
     "metadata": {},
     "output_type": "execute_result"
    }
   ],
   "source": [
    "regression_score=svr.score(s_n_x_test,y_test)\n",
    "print('The regression accuracy score is {:03.2f}'.format(regression_score))\n",
    "regression_score\n",
    "#如果不进行标准化，模型效果会特别差"
   ],
   "metadata": {
    "collapsed": false
   }
  },
  {
   "cell_type": "code",
   "execution_count": 132,
   "outputs": [
    {
     "data": {
      "text/plain": "array([-35.16303006, -37.92591314, -31.94268394, -40.34971488,\n       -38.17845231])"
     },
     "execution_count": 132,
     "metadata": {},
     "output_type": "execute_result"
    }
   ],
   "source": [
    "from sklearn.model_selection import cross_val_score\n",
    "y_predict=svr.predict(s_n_x_test)\n",
    "cross_val_score(svr, s_n_x_train, y_train, cv=5, scoring='neg_mean_squared_error')"
   ],
   "metadata": {
    "collapsed": false
   }
  },
  {
   "cell_type": "code",
   "execution_count": 133,
   "outputs": [
    {
     "data": {
      "text/plain": "701     120.154\n1344    131.448\n556     131.807\n785     121.238\n1206    124.166\n         ...   \n715     116.560\n905     125.353\n1096    120.324\n235     128.805\n1061    133.756\nName: Pressure Level, Length: 1202, dtype: float64"
     },
     "execution_count": 133,
     "metadata": {},
     "output_type": "execute_result"
    }
   ],
   "source": [
    "y_train"
   ],
   "metadata": {
    "collapsed": false
   }
  },
  {
   "cell_type": "code",
   "execution_count": 134,
   "outputs": [
    {
     "data": {
      "text/plain": "      Frequency  Angle   Chord  Velocity   Suction\n701        1250   12.6  0.1524      71.3  0.048316\n1344        630    6.7  0.1016      71.3  0.004783\n556         630    5.4  0.1524      55.5  0.004333\n785       10000    4.2  0.0508      71.3  0.001428\n1206       2500   17.4  0.0254      31.7  0.017663\n...         ...    ...     ...       ...       ...\n715         800   12.6  0.1524      39.6  0.058411\n905         400   15.4  0.0508      39.6  0.028259\n1096       6300    9.5  0.0254      39.6  0.004498\n235        1250    0.0  0.2286      31.7  0.002724\n1061       1600    9.5  0.0254      71.3  0.004207\n\n[1202 rows x 5 columns]",
      "text/html": "<div>\n<style scoped>\n    .dataframe tbody tr th:only-of-type {\n        vertical-align: middle;\n    }\n\n    .dataframe tbody tr th {\n        vertical-align: top;\n    }\n\n    .dataframe thead th {\n        text-align: right;\n    }\n</style>\n<table border=\"1\" class=\"dataframe\">\n  <thead>\n    <tr style=\"text-align: right;\">\n      <th></th>\n      <th>Frequency</th>\n      <th>Angle</th>\n      <th>Chord</th>\n      <th>Velocity</th>\n      <th>Suction</th>\n    </tr>\n  </thead>\n  <tbody>\n    <tr>\n      <th>701</th>\n      <td>1250</td>\n      <td>12.6</td>\n      <td>0.1524</td>\n      <td>71.3</td>\n      <td>0.048316</td>\n    </tr>\n    <tr>\n      <th>1344</th>\n      <td>630</td>\n      <td>6.7</td>\n      <td>0.1016</td>\n      <td>71.3</td>\n      <td>0.004783</td>\n    </tr>\n    <tr>\n      <th>556</th>\n      <td>630</td>\n      <td>5.4</td>\n      <td>0.1524</td>\n      <td>55.5</td>\n      <td>0.004333</td>\n    </tr>\n    <tr>\n      <th>785</th>\n      <td>10000</td>\n      <td>4.2</td>\n      <td>0.0508</td>\n      <td>71.3</td>\n      <td>0.001428</td>\n    </tr>\n    <tr>\n      <th>1206</th>\n      <td>2500</td>\n      <td>17.4</td>\n      <td>0.0254</td>\n      <td>31.7</td>\n      <td>0.017663</td>\n    </tr>\n    <tr>\n      <th>...</th>\n      <td>...</td>\n      <td>...</td>\n      <td>...</td>\n      <td>...</td>\n      <td>...</td>\n    </tr>\n    <tr>\n      <th>715</th>\n      <td>800</td>\n      <td>12.6</td>\n      <td>0.1524</td>\n      <td>39.6</td>\n      <td>0.058411</td>\n    </tr>\n    <tr>\n      <th>905</th>\n      <td>400</td>\n      <td>15.4</td>\n      <td>0.0508</td>\n      <td>39.6</td>\n      <td>0.028259</td>\n    </tr>\n    <tr>\n      <th>1096</th>\n      <td>6300</td>\n      <td>9.5</td>\n      <td>0.0254</td>\n      <td>39.6</td>\n      <td>0.004498</td>\n    </tr>\n    <tr>\n      <th>235</th>\n      <td>1250</td>\n      <td>0.0</td>\n      <td>0.2286</td>\n      <td>31.7</td>\n      <td>0.002724</td>\n    </tr>\n    <tr>\n      <th>1061</th>\n      <td>1600</td>\n      <td>9.5</td>\n      <td>0.0254</td>\n      <td>71.3</td>\n      <td>0.004207</td>\n    </tr>\n  </tbody>\n</table>\n<p>1202 rows × 5 columns</p>\n</div>"
     },
     "execution_count": 134,
     "metadata": {},
     "output_type": "execute_result"
    }
   ],
   "source": [
    "x_train"
   ],
   "metadata": {
    "collapsed": false
   }
  },
  {
   "cell_type": "code",
   "execution_count": 100,
   "outputs": [],
   "source": [],
   "metadata": {
    "collapsed": false
   }
  }
 ],
 "metadata": {
  "kernelspec": {
   "display_name": "Python 3",
   "language": "python",
   "name": "python3"
  },
  "language_info": {
   "codemirror_mode": {
    "name": "ipython",
    "version": 2
   },
   "file_extension": ".py",
   "mimetype": "text/x-python",
   "name": "python",
   "nbconvert_exporter": "python",
   "pygments_lexer": "ipython2",
   "version": "2.7.6"
  }
 },
 "nbformat": 4,
 "nbformat_minor": 0
}
