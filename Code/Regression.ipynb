{
 "cells": [
  {
   "cell_type": "code",
   "execution_count": 1,
   "metadata": {
    "collapsed": true
   },
   "outputs": [],
   "source": [
    "import pandas as pd\n",
    "import numpy as np"
   ]
  },
  {
   "cell_type": "code",
   "execution_count": 3,
   "outputs": [
    {
     "data": {
      "text/plain": "                Frequency     Angle     Chord  Velocity   Suction  \\\nFrequency        1.000000 -0.272765 -0.003661  0.133664 -0.230107   \nAngle           -0.272765  1.000000 -0.504868  0.058760  0.753394   \nChord           -0.003661 -0.504868  1.000000  0.003787 -0.220842   \nVelocity         0.133664  0.058760  0.003787  1.000000 -0.003974   \nSuction         -0.230107  0.753394 -0.220842 -0.003974  1.000000   \nPressure Level  -0.390711 -0.156108 -0.236162  0.125103 -0.312670   \n\n                Pressure Level  \nFrequency            -0.390711  \nAngle                -0.156108  \nChord                -0.236162  \nVelocity              0.125103  \nSuction              -0.312670  \nPressure Level        1.000000  ",
      "text/html": "<div>\n<style scoped>\n    .dataframe tbody tr th:only-of-type {\n        vertical-align: middle;\n    }\n\n    .dataframe tbody tr th {\n        vertical-align: top;\n    }\n\n    .dataframe thead th {\n        text-align: right;\n    }\n</style>\n<table border=\"1\" class=\"dataframe\">\n  <thead>\n    <tr style=\"text-align: right;\">\n      <th></th>\n      <th>Frequency</th>\n      <th>Angle</th>\n      <th>Chord</th>\n      <th>Velocity</th>\n      <th>Suction</th>\n      <th>Pressure Level</th>\n    </tr>\n  </thead>\n  <tbody>\n    <tr>\n      <th>Frequency</th>\n      <td>1.000000</td>\n      <td>-0.272765</td>\n      <td>-0.003661</td>\n      <td>0.133664</td>\n      <td>-0.230107</td>\n      <td>-0.390711</td>\n    </tr>\n    <tr>\n      <th>Angle</th>\n      <td>-0.272765</td>\n      <td>1.000000</td>\n      <td>-0.504868</td>\n      <td>0.058760</td>\n      <td>0.753394</td>\n      <td>-0.156108</td>\n    </tr>\n    <tr>\n      <th>Chord</th>\n      <td>-0.003661</td>\n      <td>-0.504868</td>\n      <td>1.000000</td>\n      <td>0.003787</td>\n      <td>-0.220842</td>\n      <td>-0.236162</td>\n    </tr>\n    <tr>\n      <th>Velocity</th>\n      <td>0.133664</td>\n      <td>0.058760</td>\n      <td>0.003787</td>\n      <td>1.000000</td>\n      <td>-0.003974</td>\n      <td>0.125103</td>\n    </tr>\n    <tr>\n      <th>Suction</th>\n      <td>-0.230107</td>\n      <td>0.753394</td>\n      <td>-0.220842</td>\n      <td>-0.003974</td>\n      <td>1.000000</td>\n      <td>-0.312670</td>\n    </tr>\n    <tr>\n      <th>Pressure Level</th>\n      <td>-0.390711</td>\n      <td>-0.156108</td>\n      <td>-0.236162</td>\n      <td>0.125103</td>\n      <td>-0.312670</td>\n      <td>1.000000</td>\n    </tr>\n  </tbody>\n</table>\n</div>"
     },
     "execution_count": 3,
     "metadata": {},
     "output_type": "execute_result"
    }
   ],
   "source": [
    "from sklearn.model_selection import cross_val_score, train_test_split\n",
    "\n",
    "dataset=pd.read_csv('Data/airfoil_self_noise.dat',sep=\"\\t\",engine='python',\n",
    "                    names=[\"Frequency\",\"Angle\",\"Chord\",\"Velocity\",\"Suction\",\"Pressure Level\"],header=None)\n",
    "\n",
    "Xs=dataset.drop(\"Pressure Level\",axis=1)\n",
    "y=dataset[\"Pressure Level\"]\n",
    "\n",
    "dataset.corr()"
   ],
   "metadata": {
    "collapsed": false
   }
  },
  {
   "cell_type": "code",
   "execution_count": 23,
   "outputs": [
    {
     "name": "stdout",
     "output_type": "stream",
     "text": [
      "-7.929377153302267\n"
     ]
    }
   ],
   "source": [
    "from sklearn.tree import DecisionTreeRegressor\n",
    "\n",
    "Xs_train,Xs_test,y_train,y_test=train_test_split(Xs,y)\n",
    "regressor=DecisionTreeRegressor(max_depth=12,max_features=5,random_state=0)\n",
    "\n",
    "score=cross_val_score(regressor,Xs_train,y_train,cv=10,scoring=\"neg_mean_squared_error\")\n",
    "print(score.mean())"
   ],
   "metadata": {
    "collapsed": false
   }
  },
  {
   "cell_type": "code",
   "execution_count": 24,
   "outputs": [
    {
     "name": "stdout",
     "output_type": "stream",
     "text": [
      "-40.066458574557096\n"
     ]
    }
   ],
   "source": [
    "from sklearn.model_selection import GridSearchCV\n",
    "from sklearn.preprocessing import Normalizer\n",
    "from sklearn.neural_network import MLPRegressor\n",
    "\n",
    "normal=Normalizer()\n",
    "Xs_train=normal.fit_transform(Xs_train)\n",
    "\n",
    "Xs_test=normal.transform(Xs_test)\n",
    "\n",
    "regressor=MLPRegressor(hidden_layer_sizes=(300,100,200,200),activation=\"relu\",solver=\"adam\",max_iter=400,batch_size=127)\n",
    "\n",
    "\n",
    "score = cross_val_score(regressor, X=Xs_train, y=y_train, cv=5,scoring=\"neg_mean_squared_error\")\n",
    "\n",
    "print(score.mean())"
   ],
   "metadata": {
    "collapsed": false
   }
  },
  {
   "cell_type": "code",
   "execution_count": null,
   "outputs": [],
   "source": [],
   "metadata": {
    "collapsed": false
   }
  }
 ],
 "metadata": {
  "kernelspec": {
   "display_name": "Python 3",
   "language": "python",
   "name": "python3"
  },
  "language_info": {
   "codemirror_mode": {
    "name": "ipython",
    "version": 2
   },
   "file_extension": ".py",
   "mimetype": "text/x-python",
   "name": "python",
   "nbconvert_exporter": "python",
   "pygments_lexer": "ipython2",
   "version": "2.7.6"
  }
 },
 "nbformat": 4,
 "nbformat_minor": 0
}
