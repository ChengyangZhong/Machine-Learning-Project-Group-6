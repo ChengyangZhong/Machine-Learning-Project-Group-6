{
 "cells": [
  {
   "cell_type": "code",
   "execution_count": 1,
   "metadata": {},
   "outputs": [],
   "source": [
    "import numpy as np\n",
    "import pandas as pd\n",
    "from sklearn.preprocessing import LabelEncoder\n",
    "from numpy.linalg import inv\n",
    "from numpy import dot\n",
    "import seaborn as sns\n",
    "import scipy\n",
    "import sklearn\n",
    "# 导入包\n"
   ]
  },
  {
   "cell_type": "code",
   "execution_count": 8,
   "metadata": {},
   "outputs": [],
   "source": [
    "data_red=pd.read_csv(\"D:/nottingham/ML/Machine-Learning-Project-Group-6/data/winequality-red.csv\",sep=\";\",index_col=False)\n",
    "data_white=pd.read_csv(\"D:/nottingham/ML/Machine-Learning-Project-Group-6/data/winequality-white.csv\",sep=\";\",index_col=False)"
   ]
  },
  {
   "cell_type": "code",
   "execution_count": 9,
   "metadata": {},
   "outputs": [],
   "source": [
    "red=[\"red\"]*len(data_red)\n",
    "data_red.insert(0,\"Label\",red)\n",
    "white=[\"white\"]*len(data_white)\n",
    "data_white.insert(0,\"Label\",white)\n",
    "data=pd.concat([data_red,data_white],axis=0)\n",
    "data=data.set_index(\"Label\",drop=True)"
   ]
  },
  {
   "cell_type": "code",
   "execution_count": 10,
   "metadata": {},
   "outputs": [
    {
     "data": {
      "text/html": [
       "<div>\n",
       "<style scoped>\n",
       "    .dataframe tbody tr th:only-of-type {\n",
       "        vertical-align: middle;\n",
       "    }\n",
       "\n",
       "    .dataframe tbody tr th {\n",
       "        vertical-align: top;\n",
       "    }\n",
       "\n",
       "    .dataframe thead th {\n",
       "        text-align: right;\n",
       "    }\n",
       "</style>\n",
       "<table border=\"1\" class=\"dataframe\">\n",
       "  <thead>\n",
       "    <tr style=\"text-align: right;\">\n",
       "      <th></th>\n",
       "      <th>fixed acidity</th>\n",
       "      <th>volatile acidity</th>\n",
       "      <th>citric acid</th>\n",
       "      <th>residual sugar</th>\n",
       "      <th>chlorides</th>\n",
       "      <th>free sulfur dioxide</th>\n",
       "      <th>total sulfur dioxide</th>\n",
       "      <th>density</th>\n",
       "      <th>pH</th>\n",
       "      <th>sulphates</th>\n",
       "      <th>alcohol</th>\n",
       "      <th>quality</th>\n",
       "    </tr>\n",
       "    <tr>\n",
       "      <th>Label</th>\n",
       "      <th></th>\n",
       "      <th></th>\n",
       "      <th></th>\n",
       "      <th></th>\n",
       "      <th></th>\n",
       "      <th></th>\n",
       "      <th></th>\n",
       "      <th></th>\n",
       "      <th></th>\n",
       "      <th></th>\n",
       "      <th></th>\n",
       "      <th></th>\n",
       "    </tr>\n",
       "  </thead>\n",
       "  <tbody>\n",
       "    <tr>\n",
       "      <th>red</th>\n",
       "      <td>7.4</td>\n",
       "      <td>0.70</td>\n",
       "      <td>0.00</td>\n",
       "      <td>1.9</td>\n",
       "      <td>0.076</td>\n",
       "      <td>11.0</td>\n",
       "      <td>34.0</td>\n",
       "      <td>0.99780</td>\n",
       "      <td>3.51</td>\n",
       "      <td>0.56</td>\n",
       "      <td>9.4</td>\n",
       "      <td>5</td>\n",
       "    </tr>\n",
       "    <tr>\n",
       "      <th>red</th>\n",
       "      <td>7.8</td>\n",
       "      <td>0.88</td>\n",
       "      <td>0.00</td>\n",
       "      <td>2.6</td>\n",
       "      <td>0.098</td>\n",
       "      <td>25.0</td>\n",
       "      <td>67.0</td>\n",
       "      <td>0.99680</td>\n",
       "      <td>3.20</td>\n",
       "      <td>0.68</td>\n",
       "      <td>9.8</td>\n",
       "      <td>5</td>\n",
       "    </tr>\n",
       "    <tr>\n",
       "      <th>red</th>\n",
       "      <td>7.8</td>\n",
       "      <td>0.76</td>\n",
       "      <td>0.04</td>\n",
       "      <td>2.3</td>\n",
       "      <td>0.092</td>\n",
       "      <td>15.0</td>\n",
       "      <td>54.0</td>\n",
       "      <td>0.99700</td>\n",
       "      <td>3.26</td>\n",
       "      <td>0.65</td>\n",
       "      <td>9.8</td>\n",
       "      <td>5</td>\n",
       "    </tr>\n",
       "    <tr>\n",
       "      <th>red</th>\n",
       "      <td>11.2</td>\n",
       "      <td>0.28</td>\n",
       "      <td>0.56</td>\n",
       "      <td>1.9</td>\n",
       "      <td>0.075</td>\n",
       "      <td>17.0</td>\n",
       "      <td>60.0</td>\n",
       "      <td>0.99800</td>\n",
       "      <td>3.16</td>\n",
       "      <td>0.58</td>\n",
       "      <td>9.8</td>\n",
       "      <td>6</td>\n",
       "    </tr>\n",
       "    <tr>\n",
       "      <th>red</th>\n",
       "      <td>7.4</td>\n",
       "      <td>0.66</td>\n",
       "      <td>0.00</td>\n",
       "      <td>1.8</td>\n",
       "      <td>0.075</td>\n",
       "      <td>13.0</td>\n",
       "      <td>40.0</td>\n",
       "      <td>0.99780</td>\n",
       "      <td>3.51</td>\n",
       "      <td>0.56</td>\n",
       "      <td>9.4</td>\n",
       "      <td>5</td>\n",
       "    </tr>\n",
       "    <tr>\n",
       "      <th>...</th>\n",
       "      <td>...</td>\n",
       "      <td>...</td>\n",
       "      <td>...</td>\n",
       "      <td>...</td>\n",
       "      <td>...</td>\n",
       "      <td>...</td>\n",
       "      <td>...</td>\n",
       "      <td>...</td>\n",
       "      <td>...</td>\n",
       "      <td>...</td>\n",
       "      <td>...</td>\n",
       "      <td>...</td>\n",
       "    </tr>\n",
       "    <tr>\n",
       "      <th>white</th>\n",
       "      <td>6.2</td>\n",
       "      <td>0.21</td>\n",
       "      <td>0.29</td>\n",
       "      <td>1.6</td>\n",
       "      <td>0.039</td>\n",
       "      <td>24.0</td>\n",
       "      <td>92.0</td>\n",
       "      <td>0.99114</td>\n",
       "      <td>3.27</td>\n",
       "      <td>0.50</td>\n",
       "      <td>11.2</td>\n",
       "      <td>6</td>\n",
       "    </tr>\n",
       "    <tr>\n",
       "      <th>white</th>\n",
       "      <td>6.6</td>\n",
       "      <td>0.32</td>\n",
       "      <td>0.36</td>\n",
       "      <td>8.0</td>\n",
       "      <td>0.047</td>\n",
       "      <td>57.0</td>\n",
       "      <td>168.0</td>\n",
       "      <td>0.99490</td>\n",
       "      <td>3.15</td>\n",
       "      <td>0.46</td>\n",
       "      <td>9.6</td>\n",
       "      <td>5</td>\n",
       "    </tr>\n",
       "    <tr>\n",
       "      <th>white</th>\n",
       "      <td>6.5</td>\n",
       "      <td>0.24</td>\n",
       "      <td>0.19</td>\n",
       "      <td>1.2</td>\n",
       "      <td>0.041</td>\n",
       "      <td>30.0</td>\n",
       "      <td>111.0</td>\n",
       "      <td>0.99254</td>\n",
       "      <td>2.99</td>\n",
       "      <td>0.46</td>\n",
       "      <td>9.4</td>\n",
       "      <td>6</td>\n",
       "    </tr>\n",
       "    <tr>\n",
       "      <th>white</th>\n",
       "      <td>5.5</td>\n",
       "      <td>0.29</td>\n",
       "      <td>0.30</td>\n",
       "      <td>1.1</td>\n",
       "      <td>0.022</td>\n",
       "      <td>20.0</td>\n",
       "      <td>110.0</td>\n",
       "      <td>0.98869</td>\n",
       "      <td>3.34</td>\n",
       "      <td>0.38</td>\n",
       "      <td>12.8</td>\n",
       "      <td>7</td>\n",
       "    </tr>\n",
       "    <tr>\n",
       "      <th>white</th>\n",
       "      <td>6.0</td>\n",
       "      <td>0.21</td>\n",
       "      <td>0.38</td>\n",
       "      <td>0.8</td>\n",
       "      <td>0.020</td>\n",
       "      <td>22.0</td>\n",
       "      <td>98.0</td>\n",
       "      <td>0.98941</td>\n",
       "      <td>3.26</td>\n",
       "      <td>0.32</td>\n",
       "      <td>11.8</td>\n",
       "      <td>6</td>\n",
       "    </tr>\n",
       "  </tbody>\n",
       "</table>\n",
       "<p>5318 rows × 12 columns</p>\n",
       "</div>"
      ],
      "text/plain": [
       "       fixed acidity  volatile acidity  citric acid  residual sugar  \\\n",
       "Label                                                                 \n",
       "red              7.4              0.70         0.00             1.9   \n",
       "red              7.8              0.88         0.00             2.6   \n",
       "red              7.8              0.76         0.04             2.3   \n",
       "red             11.2              0.28         0.56             1.9   \n",
       "red              7.4              0.66         0.00             1.8   \n",
       "...              ...               ...          ...             ...   \n",
       "white            6.2              0.21         0.29             1.6   \n",
       "white            6.6              0.32         0.36             8.0   \n",
       "white            6.5              0.24         0.19             1.2   \n",
       "white            5.5              0.29         0.30             1.1   \n",
       "white            6.0              0.21         0.38             0.8   \n",
       "\n",
       "       chlorides  free sulfur dioxide  total sulfur dioxide  density    pH  \\\n",
       "Label                                                                        \n",
       "red        0.076                 11.0                  34.0  0.99780  3.51   \n",
       "red        0.098                 25.0                  67.0  0.99680  3.20   \n",
       "red        0.092                 15.0                  54.0  0.99700  3.26   \n",
       "red        0.075                 17.0                  60.0  0.99800  3.16   \n",
       "red        0.075                 13.0                  40.0  0.99780  3.51   \n",
       "...          ...                  ...                   ...      ...   ...   \n",
       "white      0.039                 24.0                  92.0  0.99114  3.27   \n",
       "white      0.047                 57.0                 168.0  0.99490  3.15   \n",
       "white      0.041                 30.0                 111.0  0.99254  2.99   \n",
       "white      0.022                 20.0                 110.0  0.98869  3.34   \n",
       "white      0.020                 22.0                  98.0  0.98941  3.26   \n",
       "\n",
       "       sulphates  alcohol  quality  \n",
       "Label                               \n",
       "red         0.56      9.4        5  \n",
       "red         0.68      9.8        5  \n",
       "red         0.65      9.8        5  \n",
       "red         0.58      9.8        6  \n",
       "red         0.56      9.4        5  \n",
       "...          ...      ...      ...  \n",
       "white       0.50     11.2        6  \n",
       "white       0.46      9.6        5  \n",
       "white       0.46      9.4        6  \n",
       "white       0.38     12.8        7  \n",
       "white       0.32     11.8        6  \n",
       "\n",
       "[5318 rows x 12 columns]"
      ]
     },
     "execution_count": 10,
     "metadata": {},
     "output_type": "execute_result"
    }
   ],
   "source": [
    "isDuplicated = data.duplicated() # 判断重复数据记录\n",
    "# print(isDuplicated)\n",
    "all_data = data.drop_duplicates() # 删除数据记录中所有列值相同的记录\n",
    "all_data"
   ]
  },
  {
   "cell_type": "code",
   "execution_count": 11,
   "metadata": {},
   "outputs": [],
   "source": [
    "class linearRegression:\n",
    "    def fit(self, X, y):\n",
    "        X=np.asmatrix(X.copy())\n",
    "#         将x转换成矩阵，如果x是数组对象的一部分即切片则无法完成矩阵转换，所以建立x的拷贝对象，避免转换矩阵的时候失败\n",
    "        y=np.asmatrix(y).reshape(-1,1)\n",
    "#             规定列数为1，由y值（-1决定行数）\n",
    "        self.w_=(X.T*X).T*X.T*y\n",
    "    def predict (self,X):\n",
    "        X=np.asmatrix(X.copy())\n",
    "        result=X*self.w_\n",
    "        return np.array(result).ravel()\n",
    "            #使用ravel()可以将result二维数组进行扁平化处理\n",
    "   "
   ]
  },
  {
   "cell_type": "code",
   "execution_count": 12,
   "metadata": {},
   "outputs": [
    {
     "name": "stdout",
     "output_type": "stream",
     "text": [
      "result\n"
     ]
    },
    {
     "data": {
      "text/plain": [
       "array([3.31360784e+16, 6.84108112e+15, 3.31548441e+16, 3.45732891e+16,\n",
       "       5.16213123e+16, 6.83904635e+15, 5.90166700e+16, 5.06836131e+16,\n",
       "       4.08353562e+16, 4.28479706e+16, 3.90125135e+16, 4.62569572e+16,\n",
       "       6.08381973e+16, 6.53914941e+15, 3.83360200e+16, 4.54656009e+16,\n",
       "       1.38041856e+16, 3.39031374e+16])"
      ]
     },
     "metadata": {},
     "output_type": "display_data"
    },
    {
     "name": "stdout",
     "output_type": "stream",
     "text": [
      "真实值：\n",
      "Label\n",
      "white    7\n",
      "red      5\n",
      "white    6\n",
      "white    7\n",
      "white    5\n",
      "red      5\n",
      "white    4\n",
      "white    5\n",
      "white    7\n",
      "red      5\n",
      "white    6\n",
      "white    6\n",
      "white    4\n",
      "red      6\n",
      "white    6\n",
      "white    6\n",
      "red      8\n",
      "white    6\n",
      "Name: quality, dtype: int64\n",
      "均差：\n"
     ]
    },
    {
     "data": {
      "text/plain": [
       "1.5549243317985545e+33"
      ]
     },
     "metadata": {},
     "output_type": "display_data"
    },
    {
     "name": "stdout",
     "output_type": "stream",
     "text": [
      "权重值：\n"
     ]
    },
    {
     "data": {
      "text/plain": [
       "matrix([[1.60650292e+13],\n",
       "        [7.13180622e+11],\n",
       "        [7.62576851e+11],\n",
       "        [1.40536753e+13],\n",
       "        [1.18994201e+11],\n",
       "        [8.40051724e+13],\n",
       "        [3.25203858e+14],\n",
       "        [2.28139767e+12],\n",
       "        [7.35734302e+12],\n",
       "        [1.17771487e+12],\n",
       "        [2.38682346e+13]])"
      ]
     },
     "metadata": {},
     "output_type": "display_data"
    },
    {
     "name": "stdout",
     "output_type": "stream",
     "text": [
      "真实值：\n"
     ]
    },
    {
     "data": {
      "text/plain": [
       "array([7, 5, 6, 7, 5, 5, 4, 5, 7, 5, 6, 6, 4, 6, 6, 6, 8, 6], dtype=int64)"
      ]
     },
     "execution_count": 12,
     "metadata": {},
     "output_type": "execute_result"
    }
   ],
   "source": [
    "#不考虑截距的情况\n",
    "t=all_data.sample(len(all_data),random_state=1)\n",
    "train_X=t.iloc[:5300,:-1]\n",
    "train_y=t.iloc[:5300,-1]\n",
    "test_X=t.iloc[5300:,:-1]\n",
    "test_y=t.iloc[5300:,-1]\n",
    "lr=linearRegression()\n",
    "lr.fit(train_X,train_y)\n",
    "result=lr.predict(test_X)\n",
    "print(\"result\")\n",
    "display(result)\n",
    "print(\"真实值：\")\n",
    "print(test_y)\n",
    "print(\"均差：\")\n",
    "# print(\"w_:\")\n",
    "display(np.mean((result-test_y)**2))\n",
    "print(\"权重值：\")\n",
    "display(lr.w_)\n",
    "print(\"真实值：\")\n",
    "test_y.values\n",
    "# 查看模型的权重值"
   ]
  },
  {
   "cell_type": "code",
   "execution_count": 1,
   "metadata": {},
   "outputs": [],
   "source": [
    "# #考虑截距：增加一列，使该列的所有值都是1\n",
    "# t=all_data.sample(len(all_data),random_state=0)\n",
    "# #可以这样增加一列\n",
    "# #t[\"intercept\"]=1,这是在最右边增加intercept列，且该列所有值都取1\n",
    "# #按照习惯，截距作为w0,我们为之而配上一个x0,x0列放在最前面\n",
    "# #t.columns  返回所有列的信息;insert(0,\"Intercept\"):将Intercept增加到第一列\n",
    "# new_columns=t.columns.insert(0,\"Intercept\")\n",
    "# #重新安排列的信息，如果值为空,则使用fail_value参数指定的值进行填充\n",
    "# t=t.reindex(columns=new_columns,fill_value=1)\n",
    "# #t\n",
    "# t=all_data.sample(len(all_data),random_state=0)\n",
    "# train_X=t.iloc[:5300,:-1]\n",
    "# train_y=t.iloc[:5300,-1]\n",
    "# test_X=t.iloc[5300:,:-1]\n",
    "# test_y=t.iloc[5300:,-1]\n",
    "# lr=linearRegression()\n",
    "# lr.fit(train_X,train_y)\n",
    "# result=lr.predict(test_X)\n",
    "# #不知为何lr.w_的值为“nan”\n",
    "# display(np.mean((result-test_y)**2))\n",
    "# #display(lr.w_)\n"
   ]
  },
  {
   "cell_type": "code",
   "execution_count": 13,
   "metadata": {},
   "outputs": [],
   "source": [
    "import matplotlib as mpl\n",
    "import matplotlib.pyplot as plt\n",
    "mpl.rcParams[\"font.family\"]=\"SimHei\"\n",
    "mpl.rcParams[\"axes.unicode_minus\"]=False"
   ]
  },
  {
   "cell_type": "code",
   "execution_count": 14,
   "metadata": {},
   "outputs": [
    {
     "data": {
      "image/png": "[encoded data removed]",
      "text/plain": [
       "<Figure size 1000x1000 with 1 Axes>"
      ]
     },
     "metadata": {},
     "output_type": "display_data"
    }
   ],
   "source": [
    "plt.figure(figsize=(10,10))\n",
    "#绘制预测值\n",
    "plt.plot(result,\"ro-\",label=\"预测值\")\n",
    "#绘制真实值\n",
    "plt.plot(test_y.values,\"go--\",label=\"真实值\")\n",
    "plt.title(\"线性回归预测——最小二乘法\")\n",
    "plt.xlabel(\"\")\n",
    "plt.ylabel(\"质量\")\n",
    "plt.legend()\n",
    "plt.show()\n"
   ]
  },
  {
   "cell_type": "code",
   "execution_count": null,
   "metadata": {},
   "outputs": [],
   "source": []
  },
  {
   "cell_type": "code",
   "execution_count": null,
   "metadata": {},
   "outputs": [],
   "source": []
  },
  {
   "cell_type": "code",
   "execution_count": null,
   "metadata": {},
   "outputs": [],
   "source": []
  },
  {
   "cell_type": "code",
   "execution_count": null,
   "metadata": {},
   "outputs": [],
   "source": []
  },
  {
   "cell_type": "code",
   "execution_count": null,
   "metadata": {},
   "outputs": [],
   "source": []
  },
  {
   "cell_type": "code",
   "execution_count": null,
   "metadata": {},
   "outputs": [],
   "source": []
  },
  {
   "cell_type": "code",
   "execution_count": null,
   "metadata": {},
   "outputs": [],
   "source": []
  }
 ],
 "metadata": {
  "kernelspec": {
   "display_name": "Python 3.7.13 ('mle_tf')",
   "language": "python",
   "name": "python3"
  },
  "language_info": {
   "codemirror_mode": {
    "name": "ipython",
    "version": 3
   },
   "file_extension": ".py",
   "mimetype": "text/x-python",
   "name": "python",
   "nbconvert_exporter": "python",
   "pygments_lexer": "ipython3",
   "version": "3.7.13"
  },
  "orig_nbformat": 4,
  "vscode": {
   "interpreter": {
    "hash": "059a28f6b8501a3f1855ad600b68ec92fe1ad87b13ae8c63d8d57e238add6b4b"
   }
  }
 },
 "nbformat": 4,
 "nbformat_minor": 2
}
